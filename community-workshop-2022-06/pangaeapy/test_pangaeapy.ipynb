{
 "cells": [
  {
   "cell_type": "markdown",
   "id": "08ffc7d2",
   "metadata": {},
   "source": [
    "# Test pangaeapy\n",
    "\n",
    "This is a file to check whether pangaeapy is working - this is not part of the training material"
   ]
  },
  {
   "cell_type": "code",
   "execution_count": null,
   "id": "1ae7d7f2",
   "metadata": {},
   "outputs": [],
   "source": [
    "import pangaeapy.pandataset as pds"
   ]
  },
  {
   "cell_type": "markdown",
   "id": "923cf466",
   "metadata": {},
   "source": [
    "## Retrieve data by dataset id"
   ]
  },
  {
   "cell_type": "code",
   "execution_count": null,
   "id": "7eb3a69d",
   "metadata": {},
   "outputs": [],
   "source": [
    "ds= pds.PanDataSet(787140)"
   ]
  },
  {
   "cell_type": "code",
   "execution_count": null,
   "id": "09ab1e68",
   "metadata": {},
   "outputs": [],
   "source": [
    "ds.data.head()"
   ]
  },
  {
   "cell_type": "code",
   "execution_count": null,
   "id": "24bc8fc0",
   "metadata": {},
   "outputs": [],
   "source": [
    "ds.title"
   ]
  },
  {
   "cell_type": "markdown",
   "id": "f4a885f5",
   "metadata": {},
   "source": [
    "## Retrieve data by url / DOI"
   ]
  },
  {
   "cell_type": "code",
   "execution_count": null,
   "id": "ee7cf5e4",
   "metadata": {},
   "outputs": [],
   "source": [
    "pandata = pds.PanDataSet('https://doi.org/10.1594/PANGAEA.889516')"
   ]
  },
  {
   "cell_type": "code",
   "execution_count": null,
   "id": "9222dd28",
   "metadata": {
    "scrolled": true
   },
   "outputs": [],
   "source": [
    "pandata.data.head()"
   ]
  },
  {
   "cell_type": "markdown",
   "id": "025eaac1",
   "metadata": {},
   "source": [
    "## Simple transect plot exercise"
   ]
  },
  {
   "cell_type": "code",
   "execution_count": null,
   "id": "4668226f",
   "metadata": {},
   "outputs": [],
   "source": [
    "from matplotlib import pyplot as plt"
   ]
  },
  {
   "cell_type": "code",
   "execution_count": null,
   "id": "54176db1",
   "metadata": {},
   "outputs": [],
   "source": [
    "!conda install cartopy -y"
   ]
  },
  {
   "cell_type": "code",
   "execution_count": null,
   "id": "1f05b7b1",
   "metadata": {},
   "outputs": [],
   "source": [
    "import cartopy.crs as ccrs\n",
    "import cartopy.feature as cfeature"
   ]
  },
  {
   "cell_type": "code",
   "execution_count": null,
   "id": "08727de3",
   "metadata": {},
   "outputs": [],
   "source": [
    "proj = ccrs.cartopy.crs.Miller()"
   ]
  },
  {
   "cell_type": "code",
   "execution_count": null,
   "id": "4b3cd538",
   "metadata": {},
   "outputs": [],
   "source": [
    "fig = plt.figure(dpi=150)\n",
    "ax=plt.axes(projection=proj)\n",
    "ax.set_extent([-60,20,40,-40])\n",
    "ax.stock_img()\n",
    "ax.add_feature(cfeature.LAND)\n",
    "ax.add_feature(cfeature.OCEAN)\n",
    "ax.add_feature(cfeature.COASTLINE)\n",
    "#ax.add_feature(cfeature.BORDERS, linestyle=':')\n",
    "ax.add_feature(cfeature.LAKES, alpha=0.5)\n",
    "ax.add_feature(cfeature.RIVERS)\n",
    "ax.scatter(pandata.data[\"Longitude\"],pandata.data[\"Latitude\"],c=pandata.data[\"Temp\"], zorder = 2)\n",
    "plt.show()"
   ]
  }
 ],
 "metadata": {
  "kernelspec": {
   "display_name": "Python [conda env:geo_kurs]",
   "language": "python",
   "name": "conda-env-geo_kurs-py"
  },
  "language_info": {
   "codemirror_mode": {
    "name": "ipython",
    "version": 3
   },
   "file_extension": ".py",
   "mimetype": "text/x-python",
   "name": "python",
   "nbconvert_exporter": "python",
   "pygments_lexer": "ipython3",
   "version": "3.8.12"
  }
 },
 "nbformat": 4,
 "nbformat_minor": 5
}
