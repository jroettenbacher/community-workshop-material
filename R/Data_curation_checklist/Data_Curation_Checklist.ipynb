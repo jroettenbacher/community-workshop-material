{
 "cells": [
  {
   "cell_type": "markdown",
   "id": "65e5bbcc",
   "metadata": {},
   "source": [
    "Version: 0.1.0\n",
    "\n",
    "By: Dana Ransby, based on Python version by Michael Oellermann, Kathrin Riemann-Campe\n",
    "\n",
    "Last updated: 2023-08-28\n",
    "\n",
    "This notebook aims to help you, to check and resolve some common problems and issues with data tables, before submitting them to a data repository like [PANGAEA](https://www.pangaea.de/submit/).\n",
    "\n",
    "Check out our [instructions](https://wiki.pangaea.de/wiki/Data_submission) and [data templates](https://wiki.pangaea.de/wiki/Best_practice_manuals_and_templates) for submissions to PANGAEA.\n",
    "\n"
   ]
  },
  {
   "cell_type": "markdown",
   "id": "3fe1b6c7-3de3-408a-95bf-0b1ea4690dcc",
   "metadata": {},
   "source": [
    "# Import libraries"
   ]
  },
  {
   "cell_type": "code",
   "execution_count": null,
   "id": "2399c8fa",
   "metadata": {},
   "outputs": [],
   "source": [
    "library(dplyr)\n",
    "library(stringr)\n",
    "library(lubridate)\n",
    "library(taxize)\n",
    "library(httr)"
   ]
  },
  {
   "cell_type": "markdown",
   "id": "bca1447d",
   "metadata": {
    "tags": []
   },
   "source": [
    "# Create practice data tables\n",
    "\n",
    "- Create random number data file for PANGAEA test submission\n",
    "- Added mistakes:\n",
    "  - Date and time in separate columns\n",
    "  - Latitude and longitude in single cell\n",
    "  - Different ways of marking missing values\n",
    "  - Comma separated values\n",
    "  - Parameter with unit, that needs rescaling\n",
    "  - () instead of []\n",
    "  - Unrealisticly high number of decimal points\n",
    "  - Row with comments\n",
    "  - Row with aggregated statistics\n",
    "  - Feature with abbreviations (Threatened status)\n",
    "  - Species column with misspelled species names\n",
    "  - Column with NaN only\n",
    "  - Leading/trailing/double white spaces"
   ]
  },
  {
   "cell_type": "code",
   "execution_count": null,
   "id": "a96665df",
   "metadata": {},
   "outputs": [],
   "source": [
    "# Function to create fake data\n",
    "create_fake_df <- function() {\n",
    "  # Add numeric features\n",
    "  df <- data.frame(seq(from = 69.2, to = 89, by = 0.1),\n",
    "                   seq(from = 11, to = 110, by = 0.5),\n",
    "                   seq(from = 1, to = 100, by = 0.5),\n",
    "                   runif(length(seq(from = 69.2, to = 89, by = 0.1)))\n",
    "                   )\n",
    "  names(df) <- c(\"latitude (deg)\", \"lngitude (deg)\", \"water depth (cm)\", \"water temperature (degC)\" )\n",
    "\n",
    "  \n",
    "  # Add object feature\n",
    "  df$Location <- \"Bremerhaven, Germany\"\n",
    "  \n",
    "  # Add geolocations in degrees and in a single field\n",
    "  df$`lat/lon` <- \"53°32'59.9964''N; 8°34'59.9988''E\"\n",
    "  \n",
    "  # Create parameter with abbreviations\n",
    "  threatened_status <- rep(c(\"LC\", \"NT\", \"EN\", \"EX\"), length.out = nrow(df))\n",
    "  df$`Threatened status` <- threatened_status\n",
    "  \n",
    "  # Add species column\n",
    "  species <- rep(c(\"Stenella coeruleoalba\", \"Tursiops truncatus\", \"Dolphinus delphis\"), length.out = nrow(df))\n",
    "  df$species <- species\n",
    "  \n",
    "  # Add row with comments\n",
    "  df[1, ] <- rep(\"Comment\", ncol(df))\n",
    "  \n",
    "  # Add row at the end with \"Total sum\"\n",
    "  df[nrow(df) + 1, ] <- rep(\"Total sum\", ncol(df))\n",
    "  \n",
    "  # Add empty column\n",
    "  df$Empty <- NA\n",
    "  \n",
    "  ## Date and time manipulations\n",
    "  # Add date and time columns\n",
    "  sdate <- as.Date(\"2010-03-22\")   # start date\n",
    "  edate <- as.Date(\"2021-04-09\")   # end date\n",
    "  # Generate date and time range\n",
    "  date_time_range <- seq.POSIXt(from = as.POSIXct(sdate), to = as.POSIXct(edate) - 86400, by = \"hour\")\n",
    "  # Sample random date\n",
    "  df$date <- sample(as.Date(date_time_range), nrow(df), replace = TRUE)\n",
    "  # Sample random time\n",
    "  df$time <- format(sample(date_time_range, nrow(df), replace = TRUE), format = \"%H:%M:%S\")\n",
    "  \n",
    "  ## Manipulate values\n",
    "  # Add leading and trailing white space to values\n",
    "  df$Location <- sprintf(\"%3s\", df$Location)\n",
    "  df$Location <- sprintf(\"%-2s\", df$Location)\n",
    "  # Add double white spaces in between strings\n",
    "  df$Location[3] <- \"Bremerhaven,     Germany\"\n",
    "  \n",
    "  # Add comma separated value to latitude\n",
    "  df$`latitude (deg)` <- as.character(df$`latitude (deg)`)\n",
    "  df$`latitude (deg)`[3] <- \"69,4\"\n",
    "  \n",
    "  # Add missing values in different formats\n",
    "  df$`water depth (cm)` <- as.character(df$`water depth (cm)`)\n",
    "  df$`water depth (cm)`[2] <- \"-999.9\"\n",
    "  df$`water depth (cm)`[3] <- \"n/a\"\n",
    "  \n",
    "  # Sort columns\n",
    "  df <- df[, c('date', 'time', 'Location', 'Threatened status', 'species', 'lat/lon', 'latitude (deg)',\n",
    "               'lngitude (deg)', 'water depth (cm)', 'water temperature (degC)', 'Empty')]\n",
    "  \n",
    "  ## Save as csv file\n",
    "  write.table(df, file = 'test_data.csv', row.names = FALSE, sep = ',', quote = FALSE)\n",
    "  \n",
    "  return(df)\n",
    "}\n"
   ]
  },
  {
   "cell_type": "code",
   "execution_count": null,
   "id": "bceebbe8-8b55-4964-af87-1601c8f38269",
   "metadata": {},
   "outputs": [],
   "source": [
    "# create a test dataset\n",
    "df <- create_fake_df()\n",
    "head(df)"
   ]
  },
  {
   "cell_type": "markdown",
   "id": "1259d522",
   "metadata": {},
   "source": [
    "# Data Curation Checklist\n",
    "\n",
    "## Data structure\n",
    "\n",
    "* One cell = one entry\n",
    "* Columns = Variable/Parameters\n",
    "* Rows = Single observation\n",
    "* Single header row\n",
    "* No mix of numeric values and strings"
   ]
  },
  {
   "cell_type": "markdown",
   "id": "8af63e24-6d74-4069-ab58-b51c661ff8a4",
   "metadata": {},
   "source": [
    "### Check data structure"
   ]
  },
  {
   "cell_type": "code",
   "execution_count": null,
   "id": "bb9d2736",
   "metadata": {
    "lines_to_next_cell": 0
   },
   "outputs": [],
   "source": [
    "# Check structure of data table\n",
    "# head(df, 5)\n",
    "\n",
    "# Alternative way to see head and tail together\n",
    "rbind(head(df, 4), tail(df, 4))"
   ]
  },
  {
   "cell_type": "markdown",
   "id": "26da9628",
   "metadata": {},
   "source": [
    "### Remove rows that are not observations\n",
    "\n",
    "Data table should have:\n",
    "\n",
    "* only single header row\n",
    "* no rows with aggregated statistics"
   ]
  },
  {
   "cell_type": "code",
   "execution_count": null,
   "id": "c9ceb099",
   "metadata": {
    "lines_to_next_cell": 0
   },
   "outputs": [],
   "source": [
    "# Remove row with comments\n",
    "df <- df[-1, ]\n",
    "\n",
    "# Remove row with aggregated statistics\n",
    "df <- df[-nrow(df), ]\n",
    "\n",
    "# Concatenate head and tail of the data frame\n",
    "rbind(head(df, 2), tail(df, 2))"
   ]
  },
  {
   "cell_type": "markdown",
   "id": "e00c27e1",
   "metadata": {},
   "source": [
    "## Data types\n",
    "\n",
    "* Are data types as expected?\n",
    "\n",
    "__Numeric data__\n",
    "\n",
    "* Columns must contain numbers only; exception see [quality flags](https://wiki.pangaea.de/wiki/Quality_flag), DO NOT USE FORMULAS (Excel) - cells with formulas have to be saved as number prior to submission\n",
    "* Fields without data should be left empty (and NOT filled with '-', 'n/a', 'NaN', -9999 or '*' etc.)."
   ]
  },
  {
   "cell_type": "code",
   "execution_count": null,
   "id": "37f87d91",
   "metadata": {
    "lines_to_next_cell": 0
   },
   "outputs": [],
   "source": [
    "# Check data types\n",
    "str(df)"
   ]
  },
  {
   "cell_type": "code",
   "execution_count": null,
   "id": "d7ea5b9e",
   "metadata": {},
   "outputs": [],
   "source": [
    "head(df, 2)"
   ]
  },
  {
   "cell_type": "markdown",
   "id": "055342c9",
   "metadata": {},
   "source": [
    "### Remove all columns containing nothing"
   ]
  },
  {
   "cell_type": "code",
   "execution_count": null,
   "id": "e66ad0f0",
   "metadata": {},
   "outputs": [],
   "source": [
    "# Remove columns containing only NA\n",
    "df <- df[, colSums(is.na(df)) != nrow(df)]"
   ]
  },
  {
   "cell_type": "markdown",
   "id": "9919b066",
   "metadata": {},
   "source": [
    "### Remove ambigious missing values"
   ]
  },
  {
   "cell_type": "code",
   "execution_count": null,
   "id": "141d1e0d",
   "metadata": {},
   "outputs": [],
   "source": [
    "# Remove ambiguous missing values\n",
    "df$`water depth (cm)` <- gsub(\"-999.9|n/a\", \"\", df$`water depth (cm)`)"
   ]
  },
  {
   "cell_type": "markdown",
   "id": "e3682e76",
   "metadata": {},
   "source": [
    "### Check for comma separated values"
   ]
  },
  {
   "cell_type": "code",
   "execution_count": null,
   "id": "df06873f",
   "metadata": {},
   "outputs": [],
   "source": [
    "# Check for comma separated values\n",
    "# List unique values\n",
    "unique_values <- unique(df$`latitude (deg)`)\n",
    "head(unique_values, 10)"
   ]
  },
  {
   "cell_type": "code",
   "execution_count": null,
   "id": "8a387f91",
   "metadata": {},
   "outputs": [],
   "source": [
    "# Replace commas with dots\n",
    "df$`latitude (deg)` <- gsub(\",\", \".\", df$`latitude (deg)`)"
   ]
  },
  {
   "cell_type": "markdown",
   "id": "659d6bc8",
   "metadata": {},
   "source": [
    "### Convert to numeric"
   ]
  },
  {
   "cell_type": "code",
   "execution_count": null,
   "id": "8a0e36f7",
   "metadata": {},
   "outputs": [],
   "source": [
    "# Convert specific column to numeric\n",
    "df$`latitude (deg)` <- as.numeric(df$`latitude (deg)`)\n",
    "\n",
    "# OR: Convert multiple columns of dataframe to numeric\n",
    "df[, 7:ncol(df)] <- apply(df[, 7:ncol(df)], 2, as.numeric)\n",
    "\n",
    "# Check numeric features for text entries\n",
    "str(df)"
   ]
  },
  {
   "cell_type": "markdown",
   "id": "91545cbd",
   "metadata": {},
   "source": [
    "### Remove leading and trailing white space"
   ]
  },
  {
   "cell_type": "code",
   "execution_count": null,
   "id": "58a28ef6",
   "metadata": {
    "lines_to_next_cell": 2
   },
   "outputs": [],
   "source": [
    "# Remove all leading and trailing white spaces in columns identified as characters\n",
    "cols <- sapply(df, is.character)\n",
    "df[cols] <- lapply(df[cols], str_trim)\n",
    "\n",
    "# Optional: Remove double white spaces\n",
    "cols <- sapply(df, is.character)\n",
    "df[cols] <- lapply(df[cols], function(x) gsub(\"\\\\s+\", \" \", x))\n",
    "df[cols] <- as.data.frame(lapply(df[cols], function(x) gsub(\"\\\\s+\", \" \", x)))"
   ]
  },
  {
   "cell_type": "code",
   "execution_count": null,
   "id": "f7a238bd-2d61-486a-a61f-e9a4698bbc95",
   "metadata": {},
   "outputs": [],
   "source": [
    "# Show the table\n",
    "rbind(head(df, 5), tail(df, 5))"
   ]
  },
  {
   "cell_type": "markdown",
   "id": "d0a41904",
   "metadata": {
    "lines_to_next_cell": 0
   },
   "source": [
    "## Date formatting\n",
    "Date/Time should be provided in the ISO-format (e.g. 1954-04-07T13:34:11) as coordinated universal time (UTC) <p>\n",
    "--> for local time it is better to use new \"local time\" column\n",
    "\n",
    "### Merge Date and Time and convert to PANGAEA format"
   ]
  },
  {
   "cell_type": "code",
   "execution_count": null,
   "id": "33db8d93",
   "metadata": {},
   "outputs": [],
   "source": [
    "# Join date and time\n",
    "df$date <- paste0(df$date, df$time)\n",
    "df$date <- ymd_hms(df$date)\n",
    "\n",
    "# Convert to pangaea standard time format\n",
    "df$date <- format(df$date, \"%Y-%m-%dT%H:%M:%S\")\n",
    "\n",
    "# Remove redundant time column\n",
    "df <- subset(df, select = -c(time))\n",
    "\n",
    "head(df)"
   ]
  },
  {
   "cell_type": "markdown",
   "id": "c4392811",
   "metadata": {},
   "source": [
    "### Convert from degrees to decimal format\n",
    "Note: decimal degree (-65.1234) (S and W are negative, projection WGS84)\n",
    "\n",
    "#### First separate latitude and longitude into individual columns\n",
    "Note: Multiple values separated by ';', '-', '±', '()' (ranges, values with errors, uncertainties, or alternative values in brackets) within a single cell should be avoided"
   ]
  },
  {
   "cell_type": "code",
   "execution_count": null,
   "id": "ba450bd6",
   "metadata": {},
   "outputs": [],
   "source": [
    "# Split cell by semicolon separator\n",
    "df$lat <- sapply(strsplit(as.character(df$`lat/lon`), \";\"), \"[\", 1)\n",
    "df$lon <- sapply(strsplit(as.character(df$`lat/lon`), \";\"), \"[\", 2)\n",
    "\n",
    "# Remove old lat/lon column\n",
    "df <- subset(df, select = -c(`lat/lon`))\n",
    "head(df)"
   ]
  },
  {
   "cell_type": "markdown",
   "id": "9bada80f",
   "metadata": {},
   "source": [
    "#### then convert from degrees to decimal format"
   ]
  },
  {
   "cell_type": "code",
   "execution_count": null,
   "id": "7c874ceb",
   "metadata": {},
   "outputs": [],
   "source": [
    "dms2dec <- function(dms, separators = c(\"º\", \"°\", \"\\'\", \"’\", \"’’\", \"\\\"\", \"\\'\\'\", \"\\\\?\")) {\n",
    "  \n",
    "  # version 1.4 (2 Feb 2022) source(\"https://raw.githubusercontent.com/AMBarbosa/unpackaged/master/dms2dec\", encoding = \"UTF-8\")\n",
    "  # dms: a vector of latitude or longitude in degrees-minutes-seconds-hemisfere, e.g. 41° 34' 10.956\" N (with or without spaces)\n",
    "  # separators: the characters that are separating degrees, minutes and seconds in 'dms'; mind these are taken in the order in which they appear and not interpreted individually, i.e. 7'3º will be taken as 7 degrees, 3 minutes! input data are assumed to be properly formatted\n",
    "  \n",
    "  dms <- as.character(dms)\n",
    "  dms <- gsub(pattern = \" \", replacement = \"\", x = dms)\n",
    "  for (s in separators) dms <- gsub(pattern = s, replacement = \"_splitHere_\", x = dms)\n",
    "  \n",
    "  splits <- strsplit(dms, split = \"_splitHere_\")\n",
    "  n <- length(dms)\n",
    "  deg <- min <- sec <- hem <- vector(\"character\", n)\n",
    "  \n",
    "  for (i in 1:n) {\n",
    "    deg[i] <- splits[[i]][1]\n",
    "    min[i] <- splits[[i]][2]\n",
    "    \n",
    "    if (length(splits[[i]]) < 4) {\n",
    "      hem[i] <- splits[[i]][3]\n",
    "    } else {\n",
    "      sec[i] <- splits[[i]][3]\n",
    "      hem[i] <- splits[[i]][4]\n",
    "    }\n",
    "  }\n",
    "  \n",
    "  dec <- colSums(rbind(as.numeric(deg), (as.numeric(min) / 60), (as.numeric(sec) / 3600)), na.rm = TRUE)\n",
    "  sign <- ifelse (hem %in% c(\"N\", \"E\"), 1, -1)\n",
    "  hem_miss <- which(is.na(hem))\n",
    "  if (length(hem_miss) > 0) {\n",
    "    warning(\"Hemisphere not specified at position(s) \", hem_miss, \", so the sign of the resulting coordinates may be wrong.\")\n",
    "  }\n",
    "  dec <- sign * dec\n",
    "  return(dec)\n",
    "}  # end dms2dec function\n"
   ]
  },
  {
   "cell_type": "code",
   "execution_count": null,
   "id": "49846cbd-8082-427e-86f4-8d32b91caaff",
   "metadata": {},
   "outputs": [],
   "source": [
    "# Convert latitude and longitude to decimal format\n",
    "df$lat<- dms2dec(df$lat)\n",
    "df$lon<- dms2dec(df$lon)\n",
    "head(df)"
   ]
  },
  {
   "cell_type": "markdown",
   "id": "2a7c98cb",
   "metadata": {
    "lines_to_next_cell": 0
   },
   "source": [
    "## Spelling\n",
    "\n",
    "### Spell out abbreviations"
   ]
  },
  {
   "cell_type": "code",
   "execution_count": null,
   "id": "22a56940",
   "metadata": {},
   "outputs": [],
   "source": [
    "# What are the abbreviations\n",
    "unique_abbreviations <- unique(df$`Threatened status`)\n",
    "\n",
    "# Create list with abbreviations\n",
    "abbreviated <- c(\"LC\", \"NT\", \"EN\", \"EX\")\n",
    "\n",
    "# Create list with full names\n",
    "spelled_out <- c(\"Least Concern\", \"Near Threatened\", \"Endangered\", \"Extinct in the Wild\")\n",
    "\n",
    "# Replace the values in 'Threatened status' column with the named vectors\n",
    "df$`Threatened status` <- spelled_out[match(df$`Threatened status`, abbreviated)]\n",
    "head(df)"
   ]
  },
  {
   "cell_type": "markdown",
   "id": "c3f8115c",
   "metadata": {},
   "source": [
    "### Correct species names"
   ]
  },
  {
   "cell_type": "code",
   "execution_count": null,
   "id": "f2f36fb5",
   "metadata": {},
   "outputs": [],
   "source": [
    "# Create data frame with unique species names\n",
    "species <- data.frame(name = unique(df$species))\n",
    "\n",
    "# Save as tab-separated values (tsv) file for upload to WoRMS or ITIS\n",
    "write.table(species, file = \"Species.txt\", sep = \"\\t\", row.names = FALSE, quote = FALSE)\n",
    "\n",
    "# Print the species data frame\n",
    "print(species)"
   ]
  },
  {
   "cell_type": "markdown",
   "id": "06951a21",
   "metadata": {
    "lines_to_next_cell": 0
   },
   "source": [
    "--> Use the species.txt file to check species spelling using the taxon match tools of:\n",
    "- [WoRMS](https://www.marinespecies.org/aphia.php?p=match) \n",
    "- [ITIS](https://www.itis.gov/taxmatch.html)\n",
    "\n",
    "After this you can also add columns for the AphiaID (WoRMS) or TSN numbers (ITIS)\n",
    "For species spelling conventions read our [PANGAEA wiki](https://wiki.pangaea.de/wiki/Taxon)\n",
    "\n",
    "#### taxize\n",
    "Alternatively, use the R package [taxize](https://cran.r-project.org/web/packages/taxize/index.html)"
   ]
  },
  {
   "cell_type": "code",
   "execution_count": null,
   "id": "61235863",
   "metadata": {},
   "outputs": [],
   "source": [
    "# Using package taxize\n",
    "matched_species <- tax_name(species$name, get = \"species\" )\n",
    "print(matched_species)"
   ]
  },
  {
   "cell_type": "markdown",
   "id": "83138188",
   "metadata": {},
   "source": [
    "##### Correct individual species names"
   ]
  },
  {
   "cell_type": "code",
   "execution_count": null,
   "id": "67e69bdc",
   "metadata": {},
   "outputs": [],
   "source": [
    "# Correct misspelled species names\n",
    "df$species <- gsub(\"Dolphinus delphis\", \"Delphinus delphis\", df$species, ignore.case = TRUE)\n",
    "head(df)"
   ]
  },
  {
   "cell_type": "markdown",
   "id": "e4ffbf22",
   "metadata": {
    "lines_to_next_cell": 0
   },
   "source": [
    "## Parameter (header) naming\n",
    "\n",
    "* Use clear and descriptive parameter names, no cryptic abbreviations. Non experts should be able to understand the meaning (e.g. \"Water content, sediment [%]\" instead of \"WCS\")\n",
    "* All parameters in English only\n",
    "* Parameters are always accompanied by a unit\n",
    "* Use SI units written in square brackets following the parameter e.g. \"Ground heat, flux [W/m**2]\"\n",
    "* Find suitable standard parameters names by:\n",
    "  * Looking at similar datasets published at [PANGAEA](https://pangaea.de/)\n",
    "  * Finding matching parameters in the [PANGAEA parameter database](https://www.pangaea.de/lists/parameter/all-byname)\n",
    "* Look out for PANGAEA's special [geocodes](https://wiki.pangaea.de/wiki/Geocode) and their formatting\n",
    "\n",
    "### Download complete PANGAEA parameter list"
   ]
  },
  {
   "cell_type": "code",
   "execution_count": null,
   "id": "8f5dacc8",
   "metadata": {
    "lines_to_next_cell": 2
   },
   "outputs": [],
   "source": [
    "params <-read.csv(\"https://www.pangaea.de/lists/parameter/all-byname\", sep = \"\\t\")\n",
    "# Check table size\n",
    "cat(paste(\"There are currently\", nrow(params), \"parameters available in PANGAEA\\n\"))"
   ]
  },
  {
   "cell_type": "code",
   "execution_count": null,
   "id": "e3ec6845",
   "metadata": {},
   "outputs": [],
   "source": [
    "# Display the first few rows of the data frame\n",
    "head(params)"
   ]
  },
  {
   "cell_type": "markdown",
   "id": "852bea1f",
   "metadata": {},
   "source": [
    "### Lookup similar parameters in the existing list of PANGAEA parameters\n",
    "Note: If you cant find a suitable parameter we can create a new one for you\n",
    "\n",
    "#### Find parameters containing your parameter name\n",
    "Note: Also check for a matching unit for your parameter"
   ]
  },
  {
   "cell_type": "code",
   "execution_count": null,
   "id": "30c5ff56",
   "metadata": {},
   "outputs": [],
   "source": [
    "# Find your parameter (example: \"Latitude\") using partial string matching (case-insensitive)\n",
    "params[grepl(\"Latitude\", params$Parameter, ignore.case = TRUE), ]"
   ]
  },
  {
   "cell_type": "code",
   "execution_count": null,
   "id": "ea5b7063",
   "metadata": {},
   "outputs": [],
   "source": [
    "# Find similar (not exact matches) PANGAEA parameters for your own parameter. This search is less sensitive to spelling mistakes\n",
    "params[agrepl(\"latitude\", params$Parameter, ignore.case = TRUE), ]"
   ]
  },
  {
   "cell_type": "markdown",
   "id": "0ef88a0b",
   "metadata": {},
   "source": [
    "### Rename parameters"
   ]
  },
  {
   "cell_type": "code",
   "execution_count": null,
   "id": "36fb4cd8",
   "metadata": {},
   "outputs": [],
   "source": [
    "# Rename parameters\n",
    "colnames(df) <- c('DATE/TIME []', 'Location []', 'IUCN Red List status []', 'Species []', 'LATITUDE []', 'LONGITUDE []', \n",
    "                  'DEPTH, water [m]', 'Temperature, water [°C]', 'Latitude 2 []', 'Longitude 2 []')\n",
    "\n",
    "head(df, 2)"
   ]
  },
  {
   "cell_type": "markdown",
   "id": "3ed32302",
   "metadata": {},
   "source": [
    "## Conversions\n",
    "### Convert units\n",
    "PANGAEA aims to reduce redundancy of units by converting units to one scale (if possible). During the lookup of parameters you can already see which unit scale is used in PANGAEA."
   ]
  },
  {
   "cell_type": "code",
   "execution_count": null,
   "id": "73c28ab3",
   "metadata": {},
   "outputs": [],
   "source": [
    "# DEPTH, water was initially in \"cm\", but in PANGAEA \"m\" is the most common unit used for this parameter\n",
    "df$`DEPTH, water [m]` <- df$`DEPTH, water [m]` / 100\n",
    "head(df, 5)"
   ]
  },
  {
   "cell_type": "markdown",
   "id": "dfa9b014-df6a-4ef7-8406-fb59c86d019e",
   "metadata": {},
   "source": [
    "## Decimals"
   ]
  },
  {
   "cell_type": "code",
   "execution_count": null,
   "id": "6ee3473e-068c-4609-a460-008e01797866",
   "metadata": {},
   "outputs": [],
   "source": [
    "# Temperature hast too many decimals, depending on the device used, 3 decimals might be more suitable\n",
    "df$`Temperature, water [°C]` <- round (df$`Temperature, water [°C]`, 3)\n",
    "head(df, 3)"
   ]
  },
  {
   "cell_type": "markdown",
   "id": "9741146f",
   "metadata": {},
   "source": [
    "## URLs"
   ]
  },
  {
   "cell_type": "code",
   "execution_count": null,
   "id": "44dfa768",
   "metadata": {
    "lines_to_next_cell": 0
   },
   "outputs": [],
   "source": [
    "df$'Uniform resource locator/link to reference []'<- \"https://doi.org/10.1594/PANGAEA.945749\"\n",
    "head(df, 5)"
   ]
  },
  {
   "cell_type": "code",
   "execution_count": null,
   "id": "33efa826",
   "metadata": {},
   "outputs": [],
   "source": [
    "# Function to check if URL is valid\n",
    "check_url <- function(url) {\n",
    "  response <- try(GET(url))\n",
    "  return(response$status_code == 200)\n",
    "}"
   ]
  },
  {
   "cell_type": "code",
   "execution_count": null,
   "id": "4ade1bfb",
   "metadata": {},
   "outputs": [],
   "source": [
    "# Apply the function to the unique URLs in the column to check if they are any invalid URLs\n",
    "unique_URL <- data.frame('URL' = unique(df$`Uniform resource locator/link to reference []`))\n",
    "unique_URL$`url check` <- sapply(unique_URL$URL, check_url)\n",
    "head(unique_URL, 5)"
   ]
  },
  {
   "cell_type": "markdown",
   "id": "6f224699",
   "metadata": {},
   "source": [
    "## 3.8. Event\n",
    "An [EVENT](https://wiki.pangaea.de/wiki/Event) refers to the sampling event at which the data was obtained, such as a [station](https://www.pangaea.de/expeditions/) during a research expedition."
   ]
  },
  {
   "cell_type": "code",
   "execution_count": null,
   "id": "038ab668",
   "metadata": {},
   "outputs": [],
   "source": [
    "df$'Event []' <- \"PS132/1-2\"\n",
    "head(df, 2)"
   ]
  },
  {
   "cell_type": "markdown",
   "id": "731f067b",
   "metadata": {},
   "source": [
    "# 4. Save curated data\n",
    "* as Excel or tab-delimited text files\n",
    "* Important: PANGAEA only accepts UTF-8 encoding to avoid unicode errors"
   ]
  },
  {
   "cell_type": "code",
   "execution_count": null,
   "id": "fc2243d8",
   "metadata": {},
   "outputs": [],
   "source": [
    "# Save curated data with a new column sequence\n",
    "write.table(df[,c(12, 1:11)], file = \"Curated_data.txt\", sep = \"\\t\", quote = FALSE, row.names = FALSE, fileEncoding = \"UTF-8\")"
   ]
  },
  {
   "cell_type": "markdown",
   "id": "ba09c524",
   "metadata": {},
   "source": [
    "# 5. Submit to PANGAEA\n",
    "Congratulations! You finished curating your data, which was an important step forward to make your data more accessible, understandable und useable for future users.\n",
    "Now you are ready to submit your data file(s) to [PANGAEA](https://www.pangaea.de/submit/).\n",
    "\n"
   ]
  }
 ],
 "metadata": {
  "jupytext": {
   "cell_metadata_filter": "-all",
   "main_language": "R",
   "notebook_metadata_filter": "-all"
  },
  "kernelspec": {
   "display_name": "R",
   "language": "R",
   "name": "ir"
  },
  "language_info": {
   "codemirror_mode": "r",
   "file_extension": ".r",
   "mimetype": "text/x-r-source",
   "name": "R",
   "pygments_lexer": "r",
   "version": "4.3.1"
  }
 },
 "nbformat": 4,
 "nbformat_minor": 5
}
