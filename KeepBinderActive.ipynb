{
 "cells": [
  {
   "cell_type": "code",
   "execution_count": null,
   "metadata": {},
   "outputs": [],
   "source": [
    "import time\n",
    "\n",
    "# Function to prevent session timeout by executing code every x minutes\n",
    "# Make sure to turn this off and keep time intervall as long as possible to avoid being banned from MyBinder\n",
    "def KeepBinderActive(time_lapse = 6, time_out = 60):\n",
    "    time_start = time.time()\n",
    "    while True:\n",
    "        time.sleep(time_lapse*60)\n",
    "        time_now = time.time()\n",
    "        time_diff = round((time_now - time_start)/60, 0)\n",
    "        print(f'Keeping MyBinder active since {time_diff} minutes')\n",
    "        if time_diff >= time_out:\n",
    "            print(\"This session has timed out\")\n",
    "            break\n",
    "    return\n",
    "# Call the timer function\n",
    "KeepBinderActive()"
   ]
  }
 ],
 "metadata": {
  "interpreter": {
   "hash": "3162be7be739097d39031ab60a215189dbbbe23d1a55f0b28575e9a2e32c8864"
  },
  "kernelspec": {
   "display_name": "Python 3.10.4 64-bit (system)",
   "language": "python",
   "name": "python3"
  },
  "language_info": {
   "codemirror_mode": {
    "name": "ipython",
    "version": 3
   },
   "file_extension": ".py",
   "mimetype": "text/x-python",
   "name": "python",
   "nbconvert_exporter": "python",
   "pygments_lexer": "ipython3",
   "version": "3.10.4"
  },
  "orig_nbformat": 4
 },
 "nbformat": 4,
 "nbformat_minor": 2
}
