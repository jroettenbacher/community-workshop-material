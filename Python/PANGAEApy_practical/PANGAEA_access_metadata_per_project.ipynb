{
 "cells": [
  {
   "cell_type": "markdown",
   "id": "cd72baa0-0780-4ebe-b7cd-5c1cca4910c7",
   "metadata": {},
   "source": [
    "## An example how to access project-specific metadata of PANGAEA datasets\n",
    "\n",
    "By: Flavia Höring\n",
    "\n",
    "Last updated: 2024-04-29\n",
    "\n",
    "This notebook includes an example how to extract project-specific information from PANGAEA datasets using the Python modules 'pangaeapy' and 'pandas'. This information is for example relevant for the project's data managers who need to report the statistics of published datasets within a specific project to the funding agencies. This python script shows how to 1) search for a dataset list of a specific project, 2) print a full list of dataset citations, and 3) create a pandas data frame with metadata of interest for further statistical analysis or plotting.\n",
    "\n",
    "For more examples on metadata extraction with 'pangaeapy', see [pangaeapy_detailed_metadata_search.ipynb](https://github.com/pangaea-data-publisher/community-workshop-material/blob/master/Python/PANGAEApy_practical/pangaeapy_detailed_metadata_search.ipynb)\n",
    "\n"
   ]
  },
  {
   "cell_type": "code",
   "execution_count": null,
   "id": "29de7186-1313-48be-b10a-937c1a3fc2bc",
   "metadata": {},
   "outputs": [],
   "source": [
    "#install missing packages\n",
    "!pip install pandas\n",
    "!pip install pangaeapy"
   ]
  },
  {
   "cell_type": "code",
   "execution_count": null,
   "id": "e52a648b-9ac7-4bec-938c-1e512ad8f491",
   "metadata": {
    "tags": []
   },
   "outputs": [],
   "source": [
    "# import packages\n",
    "import pandas as pd\n",
    "import pangaeapy as pan\n",
    "from pangaeapy.pandataset import PanDataSet\n"
   ]
  },
  {
   "cell_type": "markdown",
   "id": "f51e7cd4-113f-4dd3-8720-ecf5006baafc",
   "metadata": {
    "tags": []
   },
   "source": [
    "### Search for dataset list of specific project"
   ]
  },
  {
   "cell_type": "code",
   "execution_count": null,
   "id": "f2a6a3ca-daac-498b-b18c-69b6ed26e6fb",
   "metadata": {
    "tags": []
   },
   "outputs": [],
   "source": [
    "query = pan.PanQuery(\"project:label:CDRmare\", limit=100)"
   ]
  },
  {
   "cell_type": "code",
   "execution_count": null,
   "id": "70e7f398-52d8-4443-89fb-11ec3f9497b9",
   "metadata": {
    "tags": []
   },
   "outputs": [],
   "source": [
    "query.totalcount"
   ]
  },
  {
   "cell_type": "code",
   "execution_count": null,
   "id": "7e45b379-71c4-4519-beb7-2f1a431e0f7c",
   "metadata": {
    "tags": []
   },
   "outputs": [],
   "source": [
    "query.query"
   ]
  },
  {
   "cell_type": "code",
   "execution_count": null,
   "id": "f59bf2cd-1901-45fc-8da3-1334be9158d8",
   "metadata": {
    "tags": []
   },
   "outputs": [],
   "source": [
    " #show first entry of query result (query.result = list of dictionaries)\n",
    "query.result[0]"
   ]
  },
  {
   "cell_type": "code",
   "execution_count": null,
   "id": "bc8e3b22-4116-45df-bacb-d494e907e962",
   "metadata": {
    "tags": []
   },
   "outputs": [],
   "source": [
    "query.result[0].keys() "
   ]
  },
  {
   "cell_type": "code",
   "execution_count": null,
   "id": "67043c1e-dd59-4d80-af78-eb23fb57726f",
   "metadata": {
    "tags": []
   },
   "outputs": [],
   "source": [
    "# get a list of URIs for the query result\n",
    "l_dois = [d.get('URI') for d in query.result]"
   ]
  },
  {
   "cell_type": "code",
   "execution_count": null,
   "id": "b232b6fc-e712-48ba-8323-e463de88fc4b",
   "metadata": {
    "tags": []
   },
   "outputs": [],
   "source": [
    "l_dois"
   ]
  },
  {
   "cell_type": "code",
   "execution_count": null,
   "id": "ee347438-62f7-4b61-aafc-bd9086612cd0",
   "metadata": {
    "tags": []
   },
   "outputs": [],
   "source": [
    "len(l_dois) #length of the list"
   ]
  },
  {
   "cell_type": "markdown",
   "id": "49a54839-09a3-42b9-a3ae-6a34af2a511b",
   "metadata": {},
   "source": [
    "### Print a full list of dataset citations to a .txt file"
   ]
  },
  {
   "cell_type": "code",
   "execution_count": null,
   "id": "814c37d1-48cb-4854-a7a5-3a2ddcfa5ce3",
   "metadata": {
    "tags": []
   },
   "outputs": [],
   "source": [
    "# write all citations to a .txt file\n",
    "file=open(\"citations_CDRmare.txt\", \"w\")\n",
    "for doi in l_dois:\n",
    "    ds = PanDataSet(doi, include_data=False)\n",
    "    citation = ds.citation\n",
    "    #print(ds.citation)\n",
    "    file.write(citation + \"\\n\")\n",
    "file.close()"
   ]
  },
  {
   "cell_type": "markdown",
   "id": "acfae4c6-a84f-473b-a247-ea62854c1f3f",
   "metadata": {
    "tags": []
   },
   "source": [
    "### Extract the DOIs, publication dates and the project names in table format for further analysis"
   ]
  },
  {
   "cell_type": "code",
   "execution_count": null,
   "id": "53a1847c-0639-43e7-9578-6a06ef6a4e4e",
   "metadata": {
    "tags": []
   },
   "outputs": [],
   "source": [
    "# access to xml metadata scheme via pangaeapy\n",
    "df_metadata = pd.DataFrame()\n",
    "\n",
    "for ind, doi in enumerate(l_dois):\n",
    "    ds = PanDataSet(doi, include_data=False)\n",
    "    df_metadata.loc[ind,'DOI'] = doi\n",
    "    df_metadata.loc[ind,'Publication_Date'] = ds.date\n",
    "    #print(ds.date)\n",
    "    x = []\n",
    "    for pro in ds.projects:\n",
    "        #print(pro.label)\n",
    "        x.append(pro.label)\n",
    "    df_metadata.loc[ind,'Project'] = ', '.join(x)\n",
    "    \n",
    "df_metadata"
   ]
  },
  {
   "cell_type": "code",
   "execution_count": null,
   "id": "87b53d89-2af6-4165-959b-87fbb943b5fa",
   "metadata": {
    "tags": []
   },
   "outputs": [],
   "source": [
    "# export metadata table as tab-delimited text-file\n",
    "df_metadata.to_csv('Metadata_datapub_CDRmare.txt', sep = '\\t', index = False)"
   ]
  }
 ],
 "metadata": {
  "kernelspec": {
   "display_name": "Python [conda env:.conda-conda_fh]",
   "language": "python",
   "name": "conda-env-.conda-conda_fh-py"
  },
  "language_info": {
   "codemirror_mode": {
    "name": "ipython",
    "version": 3
   },
   "file_extension": ".py",
   "mimetype": "text/x-python",
   "name": "python",
   "nbconvert_exporter": "python",
   "pygments_lexer": "ipython3",
   "version": "3.12.2"
  }
 },
 "nbformat": 4,
 "nbformat_minor": 5
}
