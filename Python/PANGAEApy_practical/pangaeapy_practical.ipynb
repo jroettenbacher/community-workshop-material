{
 "cells": [
  {
   "cell_type": "markdown",
   "metadata": {},
   "source": [
    "![PANGAEA_Banner.png](https://github.com/pangaea-data-publisher/community-workshop-material/raw/master/banner.png)"
   ]
  },
  {
   "cell_type": "markdown",
   "metadata": {},
   "source": [
    "# **pangaeapy practical**\n",
    "## **How to search and download data from PANGAEA**\n",
    "\n",
    "Version: 0.1.0<br>\n",
    "By: Kathrin Riemann-Campe and Michael Oellermann<br>\n",
    "Last updated: 2024-05-02\n",
    "\n",
    "This notebook will guide you how to retrieve diverse earth- and environmental data and its metadata from the [PANGAEA data repository](https://www.pangaea.de) using Python. It uses the [PangaeaPy package](https://pypi.org/project/pangaeapy/), to facilitate the data download.\n",
    "\n",
    "Run this notebook in:\n",
    "* [GoogleColab](https://colab.research.google.com/github/pangaea-data-publisher/community-workshop-material/blob/master/Python/PANGAEApy_practical/PANGAEApy_practical.ipynb): <a target=\"_blank\" href=\"https://colab.research.google.com/github/pangaea-data-publisher/community-workshop-material/blob/master/Python/PANGAEApy_practical/pangaeapy_practical.ipynb\">\n",
    "  <img src=\"https://colab.research.google.com/assets/colab-badge.svg\" alt=\"Open In Colab\"/>\n",
    "</a>"
   ]
  },
  {
   "cell_type": "markdown",
   "metadata": {},
   "source": [
    "### Content of this notebook\n",
    "1. Import libraries\n",
    "2. Query for data in PANGAEA\n",
    "3. Get metadata\n",
    "4. Download datasets\n",
    "5. Download binary files"
   ]
  },
  {
   "cell_type": "markdown",
   "metadata": {
    "tags": []
   },
   "source": [
    "# 1. Import libraries"
   ]
  },
  {
   "cell_type": "code",
   "execution_count": null,
   "metadata": {},
   "outputs": [],
   "source": [
    "### general libraries\n",
    "import os\n",
    "import pandas as pd\n",
    "import numpy as np\n",
    "import requests \n",
    "from urllib.request import urlopen, urlretrieve"
   ]
  },
  {
   "cell_type": "code",
   "execution_count": null,
   "metadata": {
    "tags": []
   },
   "outputs": [],
   "source": [
    "### plotting\n",
    "from matplotlib import pyplot as plt\n",
    "import plotly.express as px"
   ]
  },
  {
   "cell_type": "code",
   "execution_count": null,
   "metadata": {
    "tags": []
   },
   "outputs": [],
   "source": [
    "### PANGAEApy\n",
    "## if you need to install PANGAEApy use pip\n",
    "!pip install pangaeapy # comment to not install pangaeapy\n",
    "\n",
    "## if you need to upgrade PANGAEApy use \n",
    "#!pip install pangaeapy --upgrade # Uncomment to upgrade pangaeapy\n",
    "\n",
    "## check version of PANGAEApy\n",
    "#!pip show pangaeapy\n",
    "\n",
    "## for details see https://pypi.org/project/pangaeapy/ \n",
    "\n",
    "import pangaeapy as pan\n",
    "from pangaeapy.pandataset import PanDataSet"
   ]
  },
  {
   "cell_type": "markdown",
   "metadata": {},
   "source": [
    "to call the PANGAEApy documentation uncomment one of the following lines"
   ]
  },
  {
   "cell_type": "code",
   "execution_count": null,
   "metadata": {
    "tags": []
   },
   "outputs": [],
   "source": [
    "#help(pan)\n",
    "### or \n",
    "#help(pan.panquery)\n",
    "### or\n",
    "#help(pan.pandataset)"
   ]
  },
  {
   "cell_type": "code",
   "execution_count": null,
   "metadata": {
    "tags": []
   },
   "outputs": [],
   "source": [
    "# ignore warnings in this script\n",
    "import warnings\n",
    "from pandas.errors import SettingWithCopyWarning\n",
    "warnings.simplefilter(action='ignore', category=(SettingWithCopyWarning))\n",
    "warnings.simplefilter(action='ignore', category=FutureWarning)"
   ]
  },
  {
   "cell_type": "markdown",
   "metadata": {
    "tags": []
   },
   "source": [
    "# 2. Query for data in PANGAEA\n",
    "\n",
    "AIM: What data can I find for a particular topic such as a species, location or author?\n",
    "\n",
    "This mirrors the query via the [PANGAEA website](https://pangaea.de/)"
   ]
  },
  {
   "cell_type": "markdown",
   "metadata": {
    "tags": []
   },
   "source": [
    "## 2.1 Simple query\n",
    "Note:\n",
    "* limit = the maximum number of datasets to be returned from query is 500.\n",
    "    * default limit = 10\n",
    "    * To download > 500 use the offset attribute e.g. pan.PanQuery(\"Triticum\", limit = 500, offset=500)\n",
    "* type: \n",
    "    * collection = dataset collection\n",
    "    * member = individual dataset which can be part of a dataset collection \n",
    "* score: Indicates how well the dataset matched the query term"
   ]
  },
  {
   "cell_type": "code",
   "execution_count": null,
   "metadata": {},
   "outputs": [],
   "source": [
    "# query database for \"Triticum\"\n",
    "query = pan.PanQuery(\"Triticum\")\n",
    "print(f'There are {query.totalcount} query results.')\n",
    "\n",
    "# save query as dataframe\n",
    "query_results = pd.DataFrame(query.result)\n",
    "print(f'Total length of data frame query_results is {len(query_results)}.')"
   ]
  },
  {
   "cell_type": "code",
   "execution_count": null,
   "metadata": {
    "tags": []
   },
   "outputs": [],
   "source": [
    "query_results"
   ]
  },
  {
   "cell_type": "markdown",
   "metadata": {
    "tags": []
   },
   "source": [
    "## 2.2 More complex queries"
   ]
  },
  {
   "cell_type": "markdown",
   "metadata": {},
   "source": [
    "[More information](https://wiki.pangaea.de/wiki/PANGAEA_search) how to query with keywords\n"
   ]
  },
  {
   "cell_type": "markdown",
   "metadata": {},
   "source": [
    "#### Multiple query terms"
   ]
  },
  {
   "cell_type": "code",
   "execution_count": null,
   "metadata": {},
   "outputs": [],
   "source": [
    "# find datasets that contain both \"marine\" and \"geology\"\n",
    "query = pan.PanQuery(\"marine geology\")\n",
    "print(f'There are {query.totalcount} query results.')"
   ]
  },
  {
   "cell_type": "markdown",
   "metadata": {},
   "source": [
    "#### Optional query terms"
   ]
  },
  {
   "cell_type": "code",
   "execution_count": null,
   "metadata": {},
   "outputs": [],
   "source": [
    "# find datasets that contain \"Globigerina\" and either \"falconensis\" or \"bulloides\" \n",
    "query = pan.PanQuery(\"Globigerina AND (falconensis OR bulloides)\")\n",
    "print(f'There are {query.totalcount} query results.')"
   ]
  },
  {
   "cell_type": "markdown",
   "metadata": {},
   "source": [
    "#### Uncertain spelling"
   ]
  },
  {
   "cell_type": "code",
   "execution_count": null,
   "metadata": {},
   "outputs": [],
   "source": [
    "# find datasets with uncertain spelling of single letter\n",
    "query = pan.PanQuery(\"Gl?bigerina\")\n",
    "print(f'There are {query.totalcount} query results.')"
   ]
  },
  {
   "cell_type": "code",
   "execution_count": null,
   "metadata": {},
   "outputs": [],
   "source": [
    "# finds datasets with \"Neogloboquadrina\" regardless of your spelling mistake\n",
    "query = pan.PanQuery(\"~Neogloboqadrina\")\n",
    "print(f'There are {query.totalcount} query results.') "
   ]
  },
  {
   "cell_type": "markdown",
   "metadata": {},
   "source": [
    "#### Specific author"
   ]
  },
  {
   "cell_type": "code",
   "execution_count": null,
   "metadata": {},
   "outputs": [],
   "source": [
    "# find datasets of author \"Herzschuh\"\n",
    "query = pan.PanQuery(\"citation:author:Herzschuh\")\n",
    "print(f'There are {query.totalcount} query results.') "
   ]
  },
  {
   "cell_type": "markdown",
   "metadata": {},
   "source": [
    "#### Within geolocation"
   ]
  },
  {
   "cell_type": "code",
   "execution_count": null,
   "metadata": {},
   "outputs": [],
   "source": [
    "# query database for \"Globigerina bulloides\" within a certain geolocation aka bounding box\n",
    "# bounding box: bbox=(minlon, minlat,  maxlon, maxlat)\n",
    "query = pan.PanQuery(\"Globigerina bulloides\", limit = 500, bbox=(17.7, 67.7, 21, 69))\n",
    "print(f'There are {query.totalcount} query results.')"
   ]
  },
  {
   "cell_type": "markdown",
   "metadata": {
    "tags": []
   },
   "source": [
    "## 2.3 Queries exceeding 500 results"
   ]
  },
  {
   "cell_type": "markdown",
   "metadata": {},
   "source": [
    "### How to query PANGAEA without result limitations\n",
    "* The maximum of retrieving search results is 500 datasets.  \n",
    "* Retrieve datasets in chunks of 500 via offset option.  \n",
    "* Put all datasets in one data frame."
   ]
  },
  {
   "cell_type": "code",
   "execution_count": null,
   "metadata": {
    "tags": []
   },
   "outputs": [],
   "source": [
    "# query database for project \"PAGES_C-PEAT\" \n",
    "query = pan.PanQuery(\"project:label:PAGES_C-PEAT\", limit = 500)\n",
    "print(f'There are {query.totalcount} query results.')\n",
    "print(f'Currently query consists of {len(query.result)} entries.')"
   ]
  },
  {
   "cell_type": "code",
   "execution_count": null,
   "metadata": {
    "tags": []
   },
   "outputs": [],
   "source": [
    "# Get all results and combine them in data frame.\n",
    "\n",
    "# create empty data frame\n",
    "df_query_results_all = pd.DataFrame()\n",
    "\n",
    "# loop over all results in steps of 500\n",
    "for i in np.arange(0,query.totalcount,500):\n",
    "    # store result of individual step in qs\n",
    "    qs = pan.PanQuery(\"project:label:PAGES_C-PEAT\", limit = 500, offset=i)\n",
    "    # convert qs result with 500 entries to data frame df_qs\n",
    "    df_qs = pd.DataFrame(qs.result)\n",
    "    # concatenate all individual df_qs into one data frame named query_results_all\n",
    "    df_query_results_all = pd.concat([df_query_results_all,df_qs],ignore_index=True)\n",
    "    \n",
    "print(f'There are {query.totalcount} query results.')\n",
    "print(f'df_query_results_all consists of {len(df_query_results_all)} results.')"
   ]
  },
  {
   "cell_type": "code",
   "execution_count": null,
   "metadata": {
    "tags": []
   },
   "outputs": [],
   "source": [
    "# show first 3 lines\n",
    "df_query_results_all.head(3)"
   ]
  },
  {
   "cell_type": "code",
   "execution_count": null,
   "metadata": {
    "tags": []
   },
   "outputs": [],
   "source": [
    "# show last 3 lines\n",
    "df_query_results_all.tail(3)"
   ]
  },
  {
   "cell_type": "markdown",
   "metadata": {
    "tags": []
   },
   "source": [
    "## 2.4. Quiz\n",
    "\n",
    "[More information](https://wiki.pangaea.de/wiki/PANGAEA_search) how to query with keywords"
   ]
  },
  {
   "cell_type": "markdown",
   "metadata": {},
   "source": [
    "### 2.4.1 How many datasets contain \"Octopus vulgaris\"?"
   ]
  },
  {
   "cell_type": "code",
   "execution_count": null,
   "metadata": {},
   "outputs": [],
   "source": [
    "# Your solution"
   ]
  },
  {
   "cell_type": "markdown",
   "metadata": {},
   "source": [
    "### 2.4.2 How many datasets contain \"sea ice\" in the title only?"
   ]
  },
  {
   "cell_type": "code",
   "execution_count": null,
   "metadata": {},
   "outputs": [],
   "source": [
    "# Your solution"
   ]
  },
  {
   "cell_type": "markdown",
   "metadata": {},
   "source": [
    "### 2.4.3 How many datasets has the author Antje Boetius published?"
   ]
  },
  {
   "cell_type": "code",
   "execution_count": null,
   "metadata": {},
   "outputs": [],
   "source": [
    "# Your solution"
   ]
  },
  {
   "cell_type": "markdown",
   "metadata": {},
   "source": [
    "### 2.4.4 How many datasets measured \"Temperature, water\" using a CTD/Rosette?"
   ]
  },
  {
   "cell_type": "code",
   "execution_count": null,
   "metadata": {},
   "outputs": [],
   "source": [
    "# Your solution"
   ]
  },
  {
   "cell_type": "markdown",
   "metadata": {
    "tags": []
   },
   "source": [
    "# 3. Get metadata\n",
    "\n",
    "A long list of metadata is callable with PanDataSet. \n",
    "Find a comprehensive list in internal documentation  \n",
    "_help(pan.PanQuery)_    \n",
    "\n",
    "or in this notebook full of examples: [pangaeapy_detailed_metadata_search.ipynb](https://github.com/pangaea-data-publisher/community-workshop-material/tree/master/Python/PANGAEApy_practical/pangaeapy_detailed_metadata_search.ipynb)  \n",
    "\n",
    "additional example on how to extract project-specific information from PANGAEA datasets: [PANGAEA_access_metadata_per_project.ipynb](https://github.com/pangaea-data-publisher/community-workshop-material/blob/master/Python/PANGAEApy_practical/PANGAEA_access_metadata_per_project.ipynb)"
   ]
  },
  {
   "cell_type": "markdown",
   "metadata": {},
   "source": [
    "## 3.1 Get metadata of individual dataset"
   ]
  },
  {
   "cell_type": "markdown",
   "metadata": {},
   "source": [
    "#### Example dataset from PANGAEA https://doi.pangaea.de/10.1594/PANGAEA.923033"
   ]
  },
  {
   "cell_type": "code",
   "execution_count": null,
   "metadata": {},
   "outputs": [],
   "source": [
    "# Example dataset from PANGAEA\n",
    "#ds = PanDataSet('https://doi.pangaea.de/10.1594/PANGAEA.923033', include_data=False) # metadata only\n",
    "#ds = PanDataSet('doi:10.1594/PANGAEA.923033', include_data=False) # metadata only\n",
    "ds = PanDataSet(923033, include_data=False) # metadata only"
   ]
  },
  {
   "cell_type": "markdown",
   "metadata": {},
   "source": [
    "### Basic metadata retrieval"
   ]
  },
  {
   "cell_type": "code",
   "execution_count": null,
   "metadata": {},
   "outputs": [],
   "source": [
    "# Title\n",
    "print(f'Title: {ds.title}')\n",
    "# Abstract\n",
    "print(f'Abstract: {ds.abstract}')\n",
    "# Publication date\n",
    "print(f'Publication date: {ds.date}')\n",
    "# Authors\n",
    "print(f'Authors: {\"; \".join([x.fullname for x in ds.authors])}')\n",
    "# Author orcids\n",
    "print(f'Orcids: {\"; \".join([x.ORCID if x.ORCID else \"no ORCID\" for x in ds.authors])}')\n",
    "# Citation\n",
    "print(f'Citation: {ds.citation}')\n",
    "# doi\n",
    "print(f'doi: {ds.doi}')\n",
    "# Geolocation\n",
    "print(f'Latitude: {ds.geometryextent[\"meanLatitude\"]}')\n",
    "print(f'Longitude: {ds.geometryextent[\"meanLongitude\"]}')\n",
    "# Parameters\n",
    "params = \"; \".join([f'{param.name} [{param.unit}]' if param.unit else param.name for param in ds.params.values()])\n",
    "print(f'Parameters: {params}')\n",
    "# Event devices\n",
    "print(f'Event devices: {\"; \".join(set([device for device in ds.getEventsAsFrame()[\"device\"]]))}')"
   ]
  },
  {
   "cell_type": "markdown",
   "metadata": {},
   "source": [
    "### Store metadata in data frame"
   ]
  },
  {
   "cell_type": "code",
   "execution_count": null,
   "metadata": {
    "tags": []
   },
   "outputs": [],
   "source": [
    "# create empty data frame\n",
    "df = pd.DataFrame()\n",
    "\n",
    "# store metadata in df\n",
    "df.loc[0,'dataset title'] = ds.title\n",
    "df.loc[0,'abstract'] = ds.abstract\n",
    "df.loc[0,'publication date'] = ds.date\n",
    "\n",
    "# ds.authors is a list\n",
    "df.loc[0,'first author fullname'] = ds.authors[0].fullname\n",
    "df.loc[0,'all authors fullnames'] = \"; \".join([x.fullname for x in ds.authors])\n",
    "\n",
    "# authors orcids is a list\n",
    "df.loc[0,'all authors orcids'] = \"; \".join([x.ORCID if x.ORCID else \"no ORCID\" for x in ds.authors])\n",
    "\n",
    "df.loc[0,'citation'] = ds.citation\n",
    "df.loc[0,'dataset DOI'] = ds.doi\n",
    "df.loc[0,'mean latitude'] = ds.geometryextent[\"meanLatitude\"]\n",
    "df.loc[0,'mean longitude'] = ds.geometryextent[\"meanLongitude\"]\n",
    "\n",
    "# parameters is a list\n",
    "df.loc[0,'parameters'] = \"; \".join([f'{param.name} [{param.unit}]' if param.unit else param.name for param in ds.params.values()])\n",
    "\n",
    "# event devices\n",
    "df.loc[0,'device'] = \"; \".join(set([device for device in ds.getEventsAsFrame()[\"device\"]]))"
   ]
  },
  {
   "cell_type": "code",
   "execution_count": null,
   "metadata": {
    "tags": []
   },
   "outputs": [],
   "source": [
    "df"
   ]
  },
  {
   "cell_type": "markdown",
   "metadata": {},
   "source": [
    "### Save dataframe as file"
   ]
  },
  {
   "cell_type": "code",
   "execution_count": null,
   "metadata": {
    "tags": []
   },
   "outputs": [],
   "source": [
    "# Create data directory\n",
    "data_directory = \"PANGAEA_data\"\n",
    "# Check if it already exists before creating it\n",
    "if not os.path.isdir(data_directory):\n",
    "    os.mkdir(data_directory)\n",
    "    \n",
    "# Save as csv (comma seperated value)\n",
    "df.to_csv(os.path.join(data_directory, f'PANGAEA_metadata_{ds.id}.csv'), encoding='utf-8')\n",
    "df.to_csv(os.path.join(data_directory, f'PANGAEA_metadata_{ds.id}.txt'), sep='\\t', encoding='utf-8', index=False)\n",
    "print(f'PANGAEA metadata of {ds.id} saved')"
   ]
  },
  {
   "cell_type": "markdown",
   "metadata": {},
   "source": [
    "##### find out more about output formats e.g. excel at https://pandas.pydata.org/pandas-docs/stable/reference/io.html"
   ]
  },
  {
   "cell_type": "markdown",
   "metadata": {
    "tags": []
   },
   "source": [
    "## 3.2 Getting metadata for multiple datasets"
   ]
  },
  {
   "cell_type": "code",
   "execution_count": null,
   "metadata": {
    "tags": []
   },
   "outputs": [],
   "source": [
    "query = pan.PanQuery(\"basis:tara location:'arctic ocean'\", limit=500)\n",
    "print(f'There are {query.totalcount} query results.')"
   ]
  },
  {
   "cell_type": "code",
   "execution_count": null,
   "metadata": {
    "tags": []
   },
   "outputs": [],
   "source": [
    "# store query results in dataframe\n",
    "df = pd.DataFrame(query.result)"
   ]
  },
  {
   "cell_type": "code",
   "execution_count": null,
   "metadata": {
    "tags": []
   },
   "outputs": [],
   "source": [
    "df.head()"
   ]
  },
  {
   "cell_type": "markdown",
   "metadata": {},
   "source": [
    "#### Loop over all entries in df and get metadata for each entry"
   ]
  },
  {
   "cell_type": "markdown",
   "metadata": {},
   "source": [
    "NOTE: As a safety precaution, the number of metadata requests is limited for a specific time period. \n",
    "\n",
    "_Received too many (metadata) requests error (429)...waiting 30s -_\n",
    "\n",
    "If you have larger requests, prepare to wait or use a different tool e.g. OAI-PMH (https://wiki.pangaea.de/wiki/OAI-PMH)."
   ]
  },
  {
   "cell_type": "code",
   "execution_count": null,
   "metadata": {
    "tags": []
   },
   "outputs": [],
   "source": [
    "for ind,value in df['URI'].items():\n",
    "    #print(value)\n",
    "    \n",
    "    # get metadata \n",
    "    ds = PanDataSet(id=value, include_data=False) # just metadata\n",
    "   \n",
    "    # store metadata in df in new column\n",
    "    df.loc[ind,'dataset title'] = ds.title\n",
    "    df.loc[ind,'abstract'] = ds.abstract\n",
    "    df.loc[ind,'publication date'] = ds.date\n",
    "\n",
    "    # ds.authors is a list\n",
    "    df.loc[ind,'first author fullname'] = ds.authors[0].fullname\n",
    "    df.loc[ind,'all authors fullnames'] = \"; \".join([x.fullname for x in ds.authors])\n",
    "\n",
    "    # authors orcids is a list\n",
    "    df.loc[ind,'all authors orcids'] = \"; \".join([x.ORCID if x.ORCID else \"no ORCID\" for x in ds.authors])\n",
    "\n",
    "    df.loc[ind,'citation'] = ds.citation\n",
    "    df.loc[ind,'dataset DOI'] = ds.doi\n",
    "    \n",
    "    # some datasets contain binaries and no events => ds.geometryextent is empty \n",
    "    if bool(ds.geometryextent):\n",
    "        df.loc[ind,'mean latitude'] = ds.geometryextent[\"meanLatitude\"]\n",
    "        df.loc[ind,'mean longitude'] = ds.geometryextent[\"meanLongitude\"]\n",
    "\n",
    "    # parameters is a list\n",
    "    df.loc[ind,'parameters'] = \"; \".join([f'{param.name} [{param.unit}]' if param.unit else param.name for param in ds.params.values()])\n",
    "\n",
    "    # some older datasets have no events => ds.getEventsAsFrame() is empty \n",
    "    if not ds.getEventsAsFrame().empty:\n",
    "        # event devices\n",
    "        df.loc[ind,'device'] = \"; \".join(set([device if device else \"no device\" for device in ds.getEventsAsFrame()[\"device\"]]))"
   ]
  },
  {
   "cell_type": "code",
   "execution_count": null,
   "metadata": {
    "tags": []
   },
   "outputs": [],
   "source": [
    "df.head(2)"
   ]
  },
  {
   "cell_type": "markdown",
   "metadata": {},
   "source": [
    "### Save dataframe as file"
   ]
  },
  {
   "cell_type": "code",
   "execution_count": null,
   "metadata": {
    "tags": []
   },
   "outputs": [],
   "source": [
    "# Create data directory\n",
    "data_directory = \"PANGAEA_data\"\n",
    "# Check if it already exists before creating it\n",
    "if not os.path.isdir(data_directory):\n",
    "    os.mkdir(data_directory)\n",
    "    \n",
    "# Save as csv (comma seperated value)\n",
    "df.to_csv(os.path.join(data_directory, f'PANGAEA_metadata_df_all.csv'), encoding='utf-8')\n",
    "df.to_csv(os.path.join(data_directory, f'PANGAEA_metadata_df_all.txt'), sep='\\t', encoding='utf-8', index=False)\n",
    "print(f'PANGAEA metadata df_all saved')"
   ]
  },
  {
   "cell_type": "markdown",
   "metadata": {},
   "source": [
    "##### find out more about output formats e.g. excel at https://pandas.pydata.org/pandas-docs/stable/reference/io.html"
   ]
  },
  {
   "cell_type": "markdown",
   "metadata": {
    "tags": []
   },
   "source": [
    "## 3.3 Quiz"
   ]
  },
  {
   "cell_type": "markdown",
   "metadata": {},
   "source": [
    "### 3.3.1 What is the title of this dataset?\n",
    "https://doi.pangaea.de/10.1594/PANGAEA.937210"
   ]
  },
  {
   "cell_type": "code",
   "execution_count": null,
   "metadata": {},
   "outputs": [],
   "source": [
    "# Your solution"
   ]
  },
  {
   "cell_type": "markdown",
   "metadata": {},
   "source": [
    "### 3.3.2 What is the publication date of this dataset?\n",
    "https://doi.pangaea.de/10.1594/PANGAEA.863967"
   ]
  },
  {
   "cell_type": "code",
   "execution_count": null,
   "metadata": {},
   "outputs": [],
   "source": [
    "# Your solution"
   ]
  },
  {
   "cell_type": "markdown",
   "metadata": {},
   "source": [
    "### 3.3.3 Did they measure temperature in this dataset?\n",
    "https://doi.pangaea.de/10.1594/PANGAEA.863975"
   ]
  },
  {
   "cell_type": "code",
   "execution_count": null,
   "metadata": {},
   "outputs": [],
   "source": [
    "# Your solution"
   ]
  },
  {
   "cell_type": "markdown",
   "metadata": {
    "tags": []
   },
   "source": [
    "# 4. Download datasets"
   ]
  },
  {
   "cell_type": "markdown",
   "metadata": {
    "tags": []
   },
   "source": [
    "## 4.1 Download single dataset\n",
    "* download open access dataset\n",
    "* apply authentication token\n",
    "\n",
    "AIM: How can I download a single dataset right into Python or to my harddrive?"
   ]
  },
  {
   "cell_type": "markdown",
   "metadata": {},
   "source": [
    "### Search for datasets"
   ]
  },
  {
   "cell_type": "code",
   "execution_count": null,
   "metadata": {},
   "outputs": [],
   "source": [
    "# query database for \"Deep-sea Sponge Microbiome Project\" \n",
    "query = pan.PanQuery(\"Deep-sea Sponge Microbiome Project\", limit = 50)\n",
    "query_results = pd.DataFrame(query.result)\n",
    "query_results"
   ]
  },
  {
   "cell_type": "markdown",
   "metadata": {},
   "source": [
    "### Download dataset from PANGAEA\n",
    "Example dataset: https://doi.pangaea.de/10.1594/PANGAEA.923033"
   ]
  },
  {
   "cell_type": "markdown",
   "metadata": {},
   "source": [
    "Using the full url"
   ]
  },
  {
   "cell_type": "code",
   "execution_count": null,
   "metadata": {},
   "outputs": [],
   "source": [
    "ds = PanDataSet(\"https://doi.pangaea.de/10.1594/PANGAEA.923033\")\n",
    "# ds contains data and metadata\n",
    "# see section below on how to get metadata\n",
    "print(type(ds))\n",
    "\n",
    "# ds.data is data frame\n",
    "print(type(ds.data))\n",
    "\n",
    "# dataset header contains of parameter short names without unit\n",
    "ds.data.head(3)"
   ]
  },
  {
   "cell_type": "markdown",
   "metadata": {},
   "source": [
    "Using the doi"
   ]
  },
  {
   "cell_type": "code",
   "execution_count": null,
   "metadata": {},
   "outputs": [],
   "source": [
    "ds = PanDataSet(\"doi:10.1594/PANGAEA.923033\")\n",
    "ds.data.head(3)"
   ]
  },
  {
   "cell_type": "markdown",
   "metadata": {},
   "source": [
    "Using the PANGAEA ID"
   ]
  },
  {
   "cell_type": "code",
   "execution_count": null,
   "metadata": {},
   "outputs": [],
   "source": [
    "ds = PanDataSet(923033)\n",
    "ds.data.head(3)"
   ]
  },
  {
   "cell_type": "markdown",
   "metadata": {
    "tags": []
   },
   "source": [
    "### Translate to long parameter names\n",
    "Because by default parameters are abbreviated without units"
   ]
  },
  {
   "cell_type": "code",
   "execution_count": null,
   "metadata": {
    "tags": []
   },
   "outputs": [],
   "source": [
    "# Translate short parameters names to long names including unit\n",
    "def get_long_parameters(ds):\n",
    "    \"\"\"Translate short parameters names to long names including unit\n",
    "\n",
    "    Args:\n",
    "        ds (PANGAEA dataset): PANGAEA dataset\n",
    "    \"\"\"\n",
    "    ds.data.columns =  [f'{param.name} [{param.unit}]' if param.unit else param.name for param in ds.params.values()]\n"
   ]
  },
  {
   "cell_type": "code",
   "execution_count": null,
   "metadata": {
    "tags": []
   },
   "outputs": [],
   "source": [
    "ds.data.head(2)"
   ]
  },
  {
   "cell_type": "code",
   "execution_count": null,
   "metadata": {
    "tags": []
   },
   "outputs": [],
   "source": [
    "get_long_parameters(ds)"
   ]
  },
  {
   "cell_type": "code",
   "execution_count": null,
   "metadata": {
    "tags": []
   },
   "outputs": [],
   "source": [
    "ds.data.head(2)"
   ]
  },
  {
   "cell_type": "markdown",
   "metadata": {},
   "source": [
    "### What is an authentication token and what is it good for?\n",
    "\n",
    "Example dataset with access restriction: https://doi.pangaea.de/10.1594/PANGAEA.960280"
   ]
  },
  {
   "cell_type": "markdown",
   "metadata": {},
   "source": [
    "extract from help(pan.pandataset)  \n",
    "_class PanDataSet(builtins.object)  \n",
    "        PanDataSet(id=None, paramlist=None, deleteFlag='', enable_cache=False, include_data=True, expand_terms=[], auth_token=None, cache_expiry_days=1)_"
   ]
  },
  {
   "cell_type": "markdown",
   "metadata": {},
   "source": [
    "Find **your** temporary authentication token at https://pangaea.de/user/"
   ]
  },
  {
   "cell_type": "code",
   "execution_count": null,
   "metadata": {
    "tags": []
   },
   "outputs": [],
   "source": [
    "my_token = ''\n",
    "ds = PanDataSet(\"https://doi.pangaea.de/10.1594/PANGAEA.960280\", auth_token=my_token)"
   ]
  },
  {
   "cell_type": "code",
   "execution_count": null,
   "metadata": {
    "tags": []
   },
   "outputs": [],
   "source": [
    "ds.data.head()"
   ]
  },
  {
   "cell_type": "markdown",
   "metadata": {},
   "source": [
    "### Display location of dataset samples\n",
    "Example dataset: https://doi.pangaea.de/10.1594/PANGAEA.923033"
   ]
  },
  {
   "cell_type": "code",
   "execution_count": null,
   "metadata": {},
   "outputs": [],
   "source": [
    "ds = PanDataSet(923033)\n",
    "get_long_parameters(ds)\n",
    "\n",
    "# Plot sampling points on interactive plotly map\n",
    "fig = px.scatter_mapbox(ds.data, lat=\"LATITUDE\", lon=\"LONGITUDE\", \n",
    "                        hover_name=\"Event label\", \n",
    "                        hover_data=['LATITUDE', 'LONGITUDE', 'DEPTH, water [m]', 'Species', 'Gear'], \n",
    "                        zoom=0, height=300)\n",
    "fig.update_layout(mapbox_style=\"open-street-map\")\n",
    "fig.update_layout(margin={\"r\":0,\"t\":0,\"l\":0,\"b\":0})\n",
    "fig.show()"
   ]
  },
  {
   "cell_type": "markdown",
   "metadata": {},
   "source": [
    "### Save data"
   ]
  },
  {
   "cell_type": "code",
   "execution_count": null,
   "metadata": {},
   "outputs": [],
   "source": [
    "# Create data directory\n",
    "data_directory = \"PANGAEA_data\"\n",
    "# Check if it already exists before creating it\n",
    "if not os.path.isdir(data_directory):\n",
    "    os.mkdir(data_directory)\n",
    "# Save as csv (comma seperated value)\n",
    "print(f'PANGAEA dataset {ds.id} saved')\n",
    "ds.data.to_csv(os.path.join(data_directory, f'PANGAEA_dataset_{ds.id}.csv'),index=False)"
   ]
  },
  {
   "cell_type": "markdown",
   "metadata": {},
   "source": [
    "## 4.2 Download multiple datasets\n",
    "\n",
    "AIM: How can I download multiple datasets right into Python or on my harddrive?"
   ]
  },
  {
   "cell_type": "markdown",
   "metadata": {},
   "source": [
    "### Perform query"
   ]
  },
  {
   "cell_type": "code",
   "execution_count": null,
   "metadata": {
    "tags": []
   },
   "outputs": [],
   "source": [
    "# query database for Thermosalinograph data published from 2020 onwards  \n",
    "\n",
    "# Get all results and combine them in data frame.\n",
    "df_all = pd.DataFrame()\n",
    "\n",
    "# loop over all results in steps of 500\n",
    "for i in np.arange(0,query.totalcount,500):\n",
    "\n",
    "    # store result of individual step in qs\n",
    "    qs = pan.PanQuery(\"device:thermosalinograph citation:year:202*\", limit = 500, offset=i)\n",
    "    \n",
    "    # convert qs result with 500 entries to data frame df_qs\n",
    "    df_qs = pd.DataFrame(qs.result)\n",
    "    \n",
    "    # concatenate all individual df_qs into one data frame named query_results_all\n",
    "    df_all = pd.concat([df_all,df_qs],ignore_index=True)\n",
    "    \n",
    "df_all.head(2)"
   ]
  },
  {
   "cell_type": "code",
   "execution_count": null,
   "metadata": {
    "tags": []
   },
   "outputs": [],
   "source": [
    "df_all.tail(2)"
   ]
  },
  {
   "cell_type": "markdown",
   "metadata": {
    "tags": []
   },
   "source": [
    "### Case 1: Download multiple datasets and treat them as individuals\n",
    "Note: \n",
    "* Data collections and restricted datasets cannot be downloaded"
   ]
  },
  {
   "cell_type": "code",
   "execution_count": null,
   "metadata": {
    "tags": []
   },
   "outputs": [],
   "source": [
    "# check whether df_all consists of collections\n",
    "df_all[df_all['type']=='collection']"
   ]
  },
  {
   "cell_type": "code",
   "execution_count": null,
   "metadata": {},
   "outputs": [],
   "source": [
    "# Create dictionary to store dataframes in\n",
    "data_dict = {}\n",
    "# Loop over DOIs and download datasets\n",
    "#for pangaea_doi in df_all['URI']:\n",
    "for pangaea_doi in df_all['URI'][0:3]: # loop only over first 3 datasets\n",
    "    print(\"\".join(40*[\"-\"]))\n",
    "    print(f'PANGAEA ID: {pangaea_doi}')\n",
    "    # Cache\n",
    "    ds = PanDataSet(pangaea_doi, enable_cache=True)\n",
    "    # Translate to long parameter names\n",
    "    get_long_parameters(ds)\n",
    "    print(f'Dataset title: {ds.title}')\n",
    "    print(ds.data.head(2))\n",
    "    pangaea_id = pangaea_doi.split('A.')[1]\n",
    "    data_dict[pangaea_id] = ds.data"
   ]
  },
  {
   "cell_type": "code",
   "execution_count": null,
   "metadata": {
    "tags": []
   },
   "outputs": [],
   "source": [
    "list(data_dict)"
   ]
  },
  {
   "cell_type": "code",
   "execution_count": null,
   "metadata": {
    "tags": []
   },
   "outputs": [],
   "source": [
    "data_dict['910965'].head()"
   ]
  },
  {
   "cell_type": "markdown",
   "metadata": {},
   "source": [
    "### Save multiple datasets as individuals"
   ]
  },
  {
   "cell_type": "code",
   "execution_count": null,
   "metadata": {},
   "outputs": [],
   "source": [
    "# Create data directory\n",
    "data_directory = \"PANGAEA_data\"\n",
    "if not os.path.isdir(data_directory):\n",
    "    os.mkdir(data_directory)\n",
    "    \n",
    "# Loop over each dataset in the dictionary and save to csv\n",
    "for key, df in data_dict.items():\n",
    "    print(f'PANGAEA dataset {key} saved')\n",
    "    # Save to csv\n",
    "    data_dict[key].to_csv(os.path.join(data_directory, f'PANGAEA_dataset_{key}.csv'),index=False)"
   ]
  },
  {
   "cell_type": "markdown",
   "metadata": {},
   "source": [
    "### Case 2: Download multiple datasets and combine them in 1 data frame"
   ]
  },
  {
   "cell_type": "code",
   "execution_count": null,
   "metadata": {
    "tags": []
   },
   "outputs": [],
   "source": [
    "df_all.head()"
   ]
  },
  {
   "cell_type": "code",
   "execution_count": null,
   "metadata": {
    "tags": []
   },
   "outputs": [],
   "source": [
    "# Create one data frame for all datasets\n",
    "data_all = pd.DataFrame()\n",
    "\n",
    "# Loop over DOIs and download datasets\n",
    "#for pangaea_doi in df_all['URI']:\n",
    "for pangaea_doi in df_all['URI'][0:3]: # loop only over first 3 datasets\n",
    "    print(\"\".join(40*[\"-\"]))\n",
    "    print(f'PANGAEA ID: {pangaea_doi}')\n",
    "    \n",
    "    # Cache\n",
    "    ds = PanDataSet(pangaea_doi, enable_cache=True)\n",
    "    \n",
    "    # Translate to long parameter names\n",
    "    get_long_parameters(ds)\n",
    "    print(f'Dataset title: {ds.title}')\n",
    "    #print(ds.data.head(2))\n",
    "    #print(data_all.count())\n",
    "    data_all = pd.concat([data_all,ds.data])#,ignore_index=True)"
   ]
  },
  {
   "cell_type": "code",
   "execution_count": null,
   "metadata": {
    "tags": []
   },
   "outputs": [],
   "source": [
    "data_all.head(3)"
   ]
  },
  {
   "cell_type": "code",
   "execution_count": null,
   "metadata": {
    "tags": []
   },
   "outputs": [],
   "source": [
    "data_all.tail(3)"
   ]
  },
  {
   "cell_type": "markdown",
   "metadata": {},
   "source": [
    "### Save data frame"
   ]
  },
  {
   "cell_type": "code",
   "execution_count": null,
   "metadata": {
    "tags": []
   },
   "outputs": [],
   "source": [
    "# Create data directory\n",
    "data_directory = \"PANGAEA_data\"\n",
    "if not os.path.isdir(data_directory):\n",
    "    os.mkdir(data_directory)\n",
    "    \n",
    "data_all.to_csv(os.path.join(data_directory, f'PANGAEA_dataset_all.csv'),index=False)"
   ]
  },
  {
   "cell_type": "markdown",
   "metadata": {},
   "source": [
    "## 4.3 Quiz"
   ]
  },
  {
   "cell_type": "markdown",
   "metadata": {},
   "source": [
    "### 4.3.1 Download this dataset and identify the first event name\n",
    "https://doi.PANGAEA.de/10.1594/PANGAEA.947275"
   ]
  },
  {
   "cell_type": "code",
   "execution_count": null,
   "metadata": {},
   "outputs": [],
   "source": [
    "# Your solution"
   ]
  },
  {
   "cell_type": "markdown",
   "metadata": {},
   "source": [
    "### 4.3.2 Download this dataset and identify the number of sampling points >1000m\n",
    "https://doi.pangaea.de/10.1594/PANGAEA.943624"
   ]
  },
  {
   "cell_type": "code",
   "execution_count": null,
   "metadata": {},
   "outputs": [],
   "source": [
    "# Your solution"
   ]
  },
  {
   "cell_type": "markdown",
   "metadata": {},
   "source": [
    "### 4.3.3 Was there a sampling point in Australia for this dataset?\n",
    "https://doi.pangaea.de/10.1594/PANGAEA.943455"
   ]
  },
  {
   "cell_type": "code",
   "execution_count": null,
   "metadata": {},
   "outputs": [],
   "source": [
    "# Your solution"
   ]
  },
  {
   "cell_type": "markdown",
   "metadata": {},
   "source": [
    "# 5. Download binary files"
   ]
  },
  {
   "cell_type": "markdown",
   "metadata": {},
   "source": [
    "## 5.1 Download PANGAEA dataset with image data\n",
    "Dataset: https://doi.pangaea.de/10.1594/PANGAEA.943250"
   ]
  },
  {
   "cell_type": "code",
   "execution_count": null,
   "metadata": {
    "tags": []
   },
   "outputs": [],
   "source": [
    "# Download dataset from PANGAEA\n",
    "pan_id = 943250\n",
    "ds = PanDataSet(pan_id)\n",
    "# Spell out abbreviated parameters\n",
    "get_long_parameters(ds)\n",
    "df = ds.data.iloc[22:25,:]\n",
    "df.head(2)"
   ]
  },
  {
   "cell_type": "markdown",
   "metadata": {
    "tags": []
   },
   "source": [
    "## 5.2 Download images"
   ]
  },
  {
   "cell_type": "code",
   "execution_count": null,
   "metadata": {
    "tags": []
   },
   "outputs": [],
   "source": [
    "# Create data directory\n",
    "data_directory = \"PANGAEA_data\"\n",
    "if not os.path.isdir(data_directory):\n",
    "    os.mkdir(data_directory)\n",
    "\n",
    "# Create file urls\n",
    "df[\"image_url\"] = [f'https://download.pangaea.de/dataset/{pan_id}/files/{img}' for img in df['Image']]\n",
    "# Download images\n",
    "for i, file_url in enumerate(df[\"image_url\"]):\n",
    "    urlretrieve(file_url, os.path.join(data_directory, df[\"Image\"].iloc[i]))\n",
    "    print(f'{file_url} downloaded')"
   ]
  }
 ],
 "metadata": {
  "kernelspec": {
   "display_name": "Python [conda env:.conda-krc]",
   "language": "python",
   "name": "conda-env-.conda-krc-py"
  },
  "language_info": {
   "codemirror_mode": {
    "name": "ipython",
    "version": 3
   },
   "file_extension": ".py",
   "mimetype": "text/x-python",
   "name": "python",
   "nbconvert_exporter": "python",
   "pygments_lexer": "ipython3",
   "version": "3.9.18"
  }
 },
 "nbformat": 4,
 "nbformat_minor": 4
}
