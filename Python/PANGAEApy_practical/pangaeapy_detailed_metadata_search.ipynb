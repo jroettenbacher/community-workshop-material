{
 "cells": [
  {
   "cell_type": "markdown",
   "id": "08a3a14d-92e0-40cf-9ddf-14e66bf3e9c6",
   "metadata": {
    "tags": []
   },
   "source": [
    "![PANGAEA_Banner.png](https://github.com/pangaea-data-publisher/community-workshop-material/raw/master/banner.png)"
   ]
  },
  {
   "cell_type": "markdown",
   "id": "a6651568-b289-418d-893d-32aaacb19b3e",
   "metadata": {},
   "source": [
    "# Detailed examples on metadata extraction with PANGAEApy  \n",
    "By: Kathrin Riemann-Campe  \n",
    "Last updated: 2025-05-07  \n",
    "\n",
    "This notebook will show you the available list of metadata, which is callable via PANGAEApy PanDataSet version 1.0.22.  \n",
    "\n",
    "If you are looking for further detailed examples on how to write metadata in dataframes, tables and into files, go to [github page of PANGAEA community workshop](https://github.com/pangaea-data-publisher/community-workshop-material/tree/master/Python/PANGAEApy_practical).\n",
    "\n",
    "If you are looking for detailed examples on how to search with PANGAEApy PanQuery, go to [github page of PANGAEA community workshop](https://github.com/pangaea-data-publisher/community-workshop-material/tree/master/Python/PANGAEApy_practical). There will be also examples on how to download and write out metadata and data."
   ]
  },
  {
   "cell_type": "markdown",
   "id": "64cceea2-88ca-4f84-a737-11315de2a506",
   "metadata": {
    "tags": []
   },
   "source": [
    "## How to install and upgrade PANGAEApy"
   ]
  },
  {
   "cell_type": "markdown",
   "id": "e674478d-029f-4991-9132-3d439fa1bd3c",
   "metadata": {},
   "source": [
    "If you need to install PANGAEApy use pip  \n",
    "_!pip install pangaeapy_\n",
    "\n",
    "If you need to upgrade PANGAEApy use pip   \n",
    "_!pip install pangaeapy --upgrade_\n",
    "\n",
    "Check your version of PANGAEApy via pip  \n",
    "_!pip show pangaeapy_\n",
    "\n",
    "for details see https://pypi.org/project/pangaeapy/ "
   ]
  },
  {
   "cell_type": "code",
   "execution_count": null,
   "id": "12dca525-a7bf-414b-8da3-e28636136516",
   "metadata": {
    "tags": []
   },
   "outputs": [],
   "source": [
    "!pip show pangaeapy"
   ]
  },
  {
   "cell_type": "code",
   "execution_count": null,
   "id": "6df29862",
   "metadata": {},
   "outputs": [],
   "source": [
    "### import necessary packages\n",
    "import pangaeapy as pan\n",
    "from pangaeapy.pandataset import PanDataSet\n",
    "\n",
    "import pandas as pd\n",
    "\n",
    "import os"
   ]
  },
  {
   "cell_type": "markdown",
   "id": "5b0beb6d-29bc-4f09-9fb7-012899b26fa4",
   "metadata": {
    "tags": []
   },
   "source": [
    "## How to find internal documentation"
   ]
  },
  {
   "cell_type": "code",
   "execution_count": null,
   "id": "33b2a024",
   "metadata": {},
   "outputs": [],
   "source": [
    "### show functions of pangaeapy\n",
    "help(pan)"
   ]
  },
  {
   "cell_type": "code",
   "execution_count": null,
   "id": "0e293273-5da6-4b6c-9fd1-a68143eae95d",
   "metadata": {},
   "outputs": [],
   "source": [
    "### show functions of pangaeapy \n",
    "# help(pan.pandataset)"
   ]
  },
  {
   "cell_type": "markdown",
   "id": "e80d3524-a9c8-48ab-b162-03632fed80bd",
   "metadata": {
    "tags": []
   },
   "source": [
    "## Example PANGAEA datasets and all available metadata information"
   ]
  },
  {
   "cell_type": "markdown",
   "id": "5815e630-3a95-49c2-95a9-053893f96290",
   "metadata": {},
   "source": [
    "example dataset URIs:  \n",
    "https://doi.pangaea.de/10.1594/PANGAEA.982284 => Mastertrack  \n",
    "https://doi.pangaea.de/10.1594/PANGAEA.961721 => CTD dataset with many events  \n",
    "https://doi.pangaea.de/10.1594/PANGAEA.952014 => collection  \n",
    "https://doi.pangaea.de/10.1594/PANGAEA.960624 => dataset with 1 event and many parameters"
   ]
  },
  {
   "cell_type": "markdown",
   "id": "668ff5b3-37e0-4cc7-b2f5-b9240d51f320",
   "metadata": {},
   "source": [
    "#### applying PanDataSet to get metadata"
   ]
  },
  {
   "cell_type": "markdown",
   "id": "b598146a-5a3b-4eac-bbc8-68b2855af352",
   "metadata": {},
   "source": [
    "_PanDataSet(id=None, paramlist=None, deleteFlag='', enable_cache=False, include_data=True, expand_terms=[], auth_token=None, cache_expiry_days=1)_  \n",
    "\n",
    "id can be URI or just dataset id number => same result"
   ]
  },
  {
   "cell_type": "code",
   "execution_count": null,
   "id": "db6d4744-d6a0-47be-966a-fee8c5436fce",
   "metadata": {
    "tags": []
   },
   "outputs": [],
   "source": [
    "# ds = PanDataSet('https://doi.pangaea.de/10.1594/PANGAEA.982284', include_data=False) # just metadata\n",
    "# ds = PanDataSet('doi:10.1594/PANGAEA.982284', include_data=False) # just metadata\n",
    "ds = PanDataSet(id=961721, include_data=False) # just metadata"
   ]
  },
  {
   "cell_type": "code",
   "execution_count": null,
   "id": "14b2db78-3161-4ee1-a4b6-5f7be2fcbbdf",
   "metadata": {
    "tags": []
   },
   "outputs": [],
   "source": [
    "ds.id"
   ]
  },
  {
   "cell_type": "code",
   "execution_count": null,
   "id": "3f23cc59-c871-467b-a44d-d1d0cb17a2ac",
   "metadata": {
    "tags": []
   },
   "outputs": [],
   "source": [
    "ds.uri"
   ]
  },
  {
   "cell_type": "code",
   "execution_count": null,
   "id": "571a5a11-77fd-4a14-8beb-3874d7b2fd33",
   "metadata": {
    "tags": []
   },
   "outputs": [],
   "source": [
    "ds.doi"
   ]
  },
  {
   "cell_type": "code",
   "execution_count": null,
   "id": "a4f96b02-03cc-48ed-a7f3-f93ee58b6c75",
   "metadata": {
    "tags": []
   },
   "outputs": [],
   "source": [
    "ds.title"
   ]
  },
  {
   "cell_type": "code",
   "execution_count": null,
   "id": "6e62a4bc-20ac-4fef-a080-7a6448a3ddcc",
   "metadata": {
    "tags": []
   },
   "outputs": [],
   "source": [
    "ds.abstract"
   ]
  },
  {
   "cell_type": "code",
   "execution_count": null,
   "id": "f864adab-0b9f-402b-b445-ecd6d72394ec",
   "metadata": {
    "tags": []
   },
   "outputs": [],
   "source": [
    "ds.year"
   ]
  },
  {
   "cell_type": "code",
   "execution_count": null,
   "id": "47225238-160b-4a95-a3f9-deec32e2b82a",
   "metadata": {
    "tags": []
   },
   "outputs": [],
   "source": [
    "ds.authors # list of PanAuthor"
   ]
  },
  {
   "cell_type": "code",
   "execution_count": null,
   "id": "9bda89b6-ddf8-4267-8d18-f2e448c9894d",
   "metadata": {
    "tags": []
   },
   "outputs": [],
   "source": [
    "### PanAuthor(lastname, firstname=None, orcid=None, id=None, affiliations=None)\n",
    "for au in ds.authors:\n",
    "    print(au.fullname)\n",
    "    print(au.lastname)\n",
    "    print(au.firstname)\n",
    "    print(au.ORCID)\n",
    "    print(au.id)\n",
    "    print(au.affiliations)"
   ]
  },
  {
   "cell_type": "code",
   "execution_count": null,
   "id": "a74bf350-905d-4b6e-a556-60a6e8980561",
   "metadata": {
    "tags": []
   },
   "outputs": [],
   "source": [
    "### PanAuthor(lastname, firstname=None, orcid=None, id=None, affiliations=None)\n",
    "# output as dataframe\n",
    "df_authors = pd.DataFrame()\n",
    "for ind, value in enumerate(ds.authors):\n",
    "    df_authors.loc[ind,'fullname'] = value.fullname\n",
    "    df_authors.loc[ind,'lastname'] = value.lastname\n",
    "    df_authors.loc[ind,'firstname'] = value.firstname\n",
    "    df_authors.loc[ind,'ORCID'] = value.ORCID\n",
    "    df_authors.loc[ind,'id'] = value.id\n",
    "    df_authors.loc[ind,'affiliations'] = value.affiliations\n",
    "df_authors"
   ]
  },
  {
   "cell_type": "code",
   "execution_count": null,
   "id": "a448bfc8-3891-4403-8aa2-d671d3e66eb6",
   "metadata": {
    "tags": []
   },
   "outputs": [],
   "source": [
    "ds.citation"
   ]
  },
  {
   "cell_type": "code",
   "execution_count": null,
   "id": "e417e59f-32ef-40d2-b1df-fee9a9b592d5",
   "metadata": {
    "tags": []
   },
   "outputs": [],
   "source": [
    "ds.parameters # list of PanParam (parameter objects)"
   ]
  },
  {
   "cell_type": "code",
   "execution_count": null,
   "id": "3e02c3a5-86b1-4b33-b9d1-e418ed5f9c86",
   "metadata": {
    "tags": []
   },
   "outputs": [],
   "source": [
    "ds.parameters.values()"
   ]
  },
  {
   "cell_type": "code",
   "execution_count": null,
   "id": "e4d570ce-21e1-4521-a362-e5e9255e35f8",
   "metadata": {
    "tags": []
   },
   "outputs": [],
   "source": [
    "### PanParam(id, name, shortName, synonym, type, source, unit=None, unit_id=None, format=None, terms=[], comment=None, PI={}, dataseries=None, colno=None, methodid=None, method)\n",
    "for param in ds.params.values():\n",
    "    print(param.id)\n",
    "    print(param.name)\n",
    "    print(param.shortName)\n",
    "    print(param.synonym) # dictionary\n",
    "    print(param.type)\n",
    "    print(param.source)\n",
    "    print(param.unit)\n",
    "    print(param.unit_id)\n",
    "    print(param.format)\n",
    "    print(param.terms) # list of dictionaries\n",
    "    print(param.comment)\n",
    "    print(param.PI)\n",
    "    print(param.dataseries)\n",
    "    print(param.colno)\n",
    "    print(param.methodid)\n",
    "    print(param.method) # PanMethod"
   ]
  },
  {
   "cell_type": "code",
   "execution_count": null,
   "id": "b73bb66f-5539-4156-8d85-b9dcbe58da9a",
   "metadata": {
    "tags": []
   },
   "outputs": [],
   "source": [
    "### combine list of all parameter names with unit\n",
    "params = \"; \".join([f'{param.name} [{param.unit}]' if param.unit else param.name for param in ds.params.values()])\n",
    "print(params)"
   ]
  },
  {
   "cell_type": "code",
   "execution_count": null,
   "id": "b14c68e8-dadf-43b5-91c3-a612cd5de52d",
   "metadata": {
    "tags": []
   },
   "outputs": [],
   "source": [
    "### PanParam(id, name, shortName, synonym, type, source, unit=None, unit_id=None, format=None, terms=[], comment=None, PI={}, dataseries=None, colno=None, methodid=None, method)\n",
    "df_params = pd.DataFrame()\n",
    "for ind, value in enumerate(ds.params.values()):\n",
    "    df_params.loc[ind,'id'] = value.id\n",
    "    df_params.loc[ind,'name'] = value.name\n",
    "    df_params.loc[ind,'shortName'] = value.shortName\n",
    "    # df_params.loc[ind,'synonym'] = value.synonym # is dictionary not value\n",
    "    df_params.loc[ind,'type'] = value.type\n",
    "    df_params.loc[ind,'source'] = value.source\n",
    "    df_params.loc[ind,'unit'] = value.unit\n",
    "    df_params.loc[ind,'unit_id'] = value.unit_id\n",
    "    df_params.loc[ind,'format'] = value.format\n",
    "    # df_params.loc[ind,'terms'] = value.terms # is dictionary not value\n",
    "    df_params.loc[ind,'comment'] = value.comment\n",
    "    # df_params.loc[ind,'PI'] = value.PI # is dictionary not value\n",
    "    df_params.loc[ind,'dataseries'] = value.dataseries\n",
    "    df_params.loc[ind,'colno'] = value.colno\n",
    "    df_params.loc[ind,'method id'] = value.methodid\n",
    "    if value.method is not None:\n",
    "        df_params.loc[ind,'method name'] = value.method.name #PanMethod\n",
    "        df_params.loc[ind,'method name'] = 'None'\n",
    "df_params"
   ]
  },
  {
   "cell_type": "code",
   "execution_count": null,
   "id": "c9f19753-69a2-4ffd-a576-33d8e49ee0ec",
   "metadata": {},
   "outputs": [],
   "source": [
    "### PanMethod(id, name, terms=[])\n",
    "for param in ds.params.values():\n",
    "    if param.method is not None:\n",
    "        print(param.method.id)   \n",
    "        print(param.method.name)  \n",
    "        print(param.method.terms) \n",
    "        # print(param.method.__dict__)"
   ]
  },
  {
   "cell_type": "code",
   "execution_count": null,
   "id": "052172ba-dd59-48a2-a0cb-a451803e68d4",
   "metadata": {
    "tags": []
   },
   "outputs": [],
   "source": [
    "ds.events # list of PanEvent"
   ]
  },
  {
   "cell_type": "code",
   "execution_count": null,
   "id": "92d4e670-2a6a-4f6d-82d3-76ea1420092c",
   "metadata": {
    "tags": []
   },
   "outputs": [],
   "source": [
    "### PanEvent(label, latitude=None, longitude=None, latitude2=None, longitude2=None, elevation=None, datetime=None, datetime2=None, basis=None, location=None, campaign=None, id=None, method=None)\n",
    "for ev in ds.events:\n",
    "    print(ev.label)\n",
    "    print(ev.latitude)\n",
    "    print(ev.longitude)\n",
    "    print(ev.latitude2)\n",
    "    print(ev.longitude2)\n",
    "    print(ev.elevation)    \n",
    "    print(ev.datetime)\n",
    "    print(ev.datetime2)\n",
    "    print(ev.device)\n",
    "    print(ev.basis) # PanBasis\n",
    "    print(ev.location)\n",
    "    print(ev.campaign) # PanCampaign\n",
    "    print(ev.id)\n",
    "    print(ev.deviceid)\n",
    "    print(ev.method) # PanMethod"
   ]
  },
  {
   "cell_type": "code",
   "execution_count": null,
   "id": "7af6c6b8-6a3b-4606-ae2d-808ca886457e",
   "metadata": {
    "tags": []
   },
   "outputs": [],
   "source": [
    "### PanBasis(name=None, URI=None, callSign=None, IMOnumber=None)\n",
    "for ev in ds.events:\n",
    "    print(ev.basis.name)\n",
    "    print(ev.basis.URI)\n",
    "    print(ev.basis.callSign)\n",
    "    print(ev.basis.IMOnumber)"
   ]
  },
  {
   "cell_type": "code",
   "execution_count": null,
   "id": "5bf5a3c6-d49a-4bbe-8d5b-19e068ea0ae9",
   "metadata": {
    "tags": []
   },
   "outputs": [],
   "source": [
    "### PanCampaign(name=None, URI=None, start=None, end=None, startlocation=None, endlocation=None, BSHID=None, expeditionprogram=None)\n",
    "for ev in ds.events:\n",
    "    print(ev.campaign.name)\n",
    "    print(ev.campaign.URI)\n",
    "    print(ev.campaign.start)\n",
    "    print(ev.campaign.end)\n",
    "    print(ev.campaign.startlocation)\n",
    "    print(ev.campaign.endlocation)\n",
    "    print(ev.campaign.BSHID)\n",
    "    print(ev.campaign.expeditionprogram)\n",
    "    "
   ]
  },
  {
   "cell_type": "code",
   "execution_count": null,
   "id": "89508841-49a5-41cc-a535-576cd2d511a6",
   "metadata": {
    "tags": []
   },
   "outputs": [],
   "source": [
    "# function writes all event information into seperate dataframe\n",
    "ds.getEventsAsFrame()"
   ]
  },
  {
   "cell_type": "code",
   "execution_count": null,
   "id": "20129e33-386f-406b-8d11-8e5b77740c8b",
   "metadata": {
    "tags": []
   },
   "outputs": [],
   "source": [
    "ds.projects # list of PanProject"
   ]
  },
  {
   "cell_type": "code",
   "execution_count": null,
   "id": "1fff5fc5-7af5-4eb8-b135-2595d89bd1f7",
   "metadata": {
    "tags": []
   },
   "outputs": [],
   "source": [
    "### PanProject(label, name, URL=None, awardURI=None, id=None)\n",
    "for pro in ds.projects:\n",
    "    print(pro.label)\n",
    "    print(pro.name)\n",
    "    print(pro.URL)\n",
    "    print(pro.awardURI)\n",
    "    print(pro.id)    "
   ]
  },
  {
   "cell_type": "code",
   "execution_count": null,
   "id": "3fadff8b-2843-4b67-90fb-ca35cc89facb",
   "metadata": {
    "tags": []
   },
   "outputs": [],
   "source": [
    "ds.mintimeextent"
   ]
  },
  {
   "cell_type": "code",
   "execution_count": null,
   "id": "6b8d0690-f7fc-4d2b-a483-1289c72893db",
   "metadata": {
    "tags": []
   },
   "outputs": [],
   "source": [
    "ds.maxtimeextent"
   ]
  },
  {
   "cell_type": "code",
   "execution_count": null,
   "id": "5fbdfaea-7b98-4546-a251-057dd8702114",
   "metadata": {
    "tags": []
   },
   "outputs": [],
   "source": [
    "ds.loginstatus"
   ]
  },
  {
   "cell_type": "code",
   "execution_count": null,
   "id": "5bcb680d-c773-49e0-b502-c00381c54c56",
   "metadata": {
    "tags": []
   },
   "outputs": [],
   "source": [
    "ds.isCollection"
   ]
  },
  {
   "cell_type": "code",
   "execution_count": null,
   "id": "6978c4ce-6bfe-4b40-9b73-265f04fe3e87",
   "metadata": {
    "tags": []
   },
   "outputs": [],
   "source": [
    "ds.collection_members #list of DOIs of all child data sets in case the data set is a parent data set"
   ]
  },
  {
   "cell_type": "code",
   "execution_count": null,
   "id": "0336a5fb-2f21-4634-99b2-6eb3d36fe575",
   "metadata": {},
   "outputs": [],
   "source": [
    "ds.keywords"
   ]
  },
  {
   "cell_type": "code",
   "execution_count": null,
   "id": "fb7d6e2a-c8b2-4762-91a2-2908d16a3a89",
   "metadata": {
    "tags": []
   },
   "outputs": [],
   "source": [
    "ds.moratorium"
   ]
  },
  {
   "cell_type": "code",
   "execution_count": null,
   "id": "9abe63a3-d0d9-48c7-b46d-47e957a83df4",
   "metadata": {
    "tags": []
   },
   "outputs": [],
   "source": [
    "ds.datastatus"
   ]
  },
  {
   "cell_type": "code",
   "execution_count": null,
   "id": "d4366fc2-0923-4dfe-87a3-ef494f64e3df",
   "metadata": {
    "tags": []
   },
   "outputs": [],
   "source": [
    "ds.registrystatus"
   ]
  },
  {
   "cell_type": "code",
   "execution_count": null,
   "id": "8d273b4f-5807-46a2-b97f-3256ccf5dd96",
   "metadata": {
    "tags": []
   },
   "outputs": [],
   "source": [
    "ds.licence # PanLicence"
   ]
  },
  {
   "cell_type": "code",
   "execution_count": null,
   "id": "aa7c2847-0bfa-4246-9f52-15d5d7632552",
   "metadata": {
    "tags": []
   },
   "outputs": [],
   "source": [
    "### PanLicence(label, name, URI=None)\n",
    "print(ds.licence.label)\n",
    "print(ds.licence.name)\n",
    "print(ds.licence.URI)"
   ]
  },
  {
   "cell_type": "code",
   "execution_count": null,
   "id": "d8747701-b21c-4125-abaf-fb52cfb73ab2",
   "metadata": {
    "tags": []
   },
   "outputs": [],
   "source": [
    "ds.getParamDict()"
   ]
  },
  {
   "cell_type": "code",
   "execution_count": null,
   "id": "7e696627-dc72-4d10-9707-a80433aeca78",
   "metadata": {
    "tags": []
   },
   "outputs": [],
   "source": [
    "ds.info()"
   ]
  },
  {
   "cell_type": "code",
   "execution_count": null,
   "id": "0eb9d6f8-2ef9-4e6d-8416-3905736be2f1",
   "metadata": {
    "tags": []
   },
   "outputs": [],
   "source": [
    "print(ds.geometryextent[\"meanLatitude\"])\n",
    "print(ds.geometryextent[\"meanLongitude\"])"
   ]
  },
  {
   "cell_type": "code",
   "execution_count": null,
   "id": "c4b8d6be-40c3-40db-9036-e8bceded07d6",
   "metadata": {
    "tags": []
   },
   "outputs": [],
   "source": [
    "ds.geometryextent"
   ]
  },
  {
   "cell_type": "code",
   "execution_count": null,
   "id": "a502e2bf-9876-4cdb-a6f8-318d1d5538a5",
   "metadata": {
    "tags": []
   },
   "outputs": [],
   "source": [
    "ds.geometryextent['southBoundLatitude']"
   ]
  },
  {
   "cell_type": "code",
   "execution_count": null,
   "id": "bb37cf31-abb0-4345-bb0e-e302c12afd36",
   "metadata": {
    "tags": []
   },
   "outputs": [],
   "source": [
    "ds.date # publication date"
   ]
  },
  {
   "cell_type": "markdown",
   "id": "03459c5d-b5c1-4462-ae1e-917a3e8c8731",
   "metadata": {
    "tags": []
   },
   "source": [
    "## Example PANGAEA datasets including metadata and data"
   ]
  },
  {
   "cell_type": "markdown",
   "id": "3036c252-d9d8-4402-8b41-cb3ab4dde228",
   "metadata": {},
   "source": [
    "example dataset URIs:  \n",
    "https://doi.pangaea.de/10.1594/PANGAEA.963942 => CTD dataset with 86 events  \n",
    "https://doi.pangaea.de/10.1594/PANGAEA.960624 => dataset with 1 event and many parameters"
   ]
  },
  {
   "cell_type": "code",
   "execution_count": null,
   "id": "c9b94e9e-0809-4a59-933c-f0d4bd47dfd6",
   "metadata": {
    "tags": []
   },
   "outputs": [],
   "source": [
    "#ds = PanDataSet('https://doi.pangaea.de/10.1594/PANGAEA.963942')\n",
    "#ds = PanDataSet('doi:10.1594/PANGAEA.963942')\n",
    "ds = PanDataSet(id=963942)"
   ]
  },
  {
   "cell_type": "code",
   "execution_count": null,
   "id": "bdd334bc-b101-43af-839a-31dee162f5e9",
   "metadata": {
    "tags": []
   },
   "outputs": [],
   "source": [
    "# ds.data includes header with parameter short names without unit \n",
    "ds.data.head() #pandas.DataFrame"
   ]
  },
  {
   "cell_type": "markdown",
   "id": "db806552-d6e8-4e5e-b277-7a15dcb34133",
   "metadata": {
    "tags": []
   },
   "source": [
    "#### Translate parameter short names to long parameter names\n",
    "Because by default parameters are abbreviated without units"
   ]
  },
  {
   "cell_type": "code",
   "execution_count": null,
   "id": "bd77bd86-83da-45bd-afeb-9c2e6333e098",
   "metadata": {
    "tags": []
   },
   "outputs": [],
   "source": [
    "# Translate short parameters names to long names including unit\n",
    "def get_long_parameters(ds):\n",
    "    \"\"\"Translate short parameters names to long names including unit\n",
    "\n",
    "    Args:\n",
    "        ds (PANGAEA dataset): PANGAEA dataset\n",
    "    \"\"\"\n",
    "    ds.data.columns =  [f'{param.name} [{param.unit}]' if param.unit else param.name for param in ds.params.values()]\n"
   ]
  },
  {
   "cell_type": "code",
   "execution_count": null,
   "id": "84a39571-58b6-46e1-bc57-f8221894403e",
   "metadata": {
    "tags": []
   },
   "outputs": [],
   "source": [
    "ds.data.head(2)"
   ]
  },
  {
   "cell_type": "code",
   "execution_count": null,
   "id": "cd3f616c-08ef-40ad-8f66-909ba059aefb",
   "metadata": {
    "tags": []
   },
   "outputs": [],
   "source": [
    "# Translate short parameters names to long names including unit\n",
    "get_long_parameters(ds)"
   ]
  },
  {
   "cell_type": "code",
   "execution_count": null,
   "id": "4cb77de4-9076-4cbc-8267-d4f52ce6f756",
   "metadata": {
    "tags": []
   },
   "outputs": [],
   "source": [
    "ds.data.head(2)"
   ]
  },
  {
   "cell_type": "code",
   "execution_count": null,
   "id": "567d4252-8c48-408b-9017-73d7c1706d7f",
   "metadata": {},
   "outputs": [],
   "source": []
  },
  {
   "cell_type": "markdown",
   "id": "061a9c56-8d95-40fd-8145-3fa9b6a95fef",
   "metadata": {},
   "source": [
    "If you are looking for detailed examples on how to search with PANGAEApy PanQuery, go to [github page of PANGAEA community workshop](https://github.com/pangaea-data-publisher/community-workshop-material/tree/master/Python/PANGAEApy_practical)."
   ]
  },
  {
   "cell_type": "code",
   "execution_count": null,
   "id": "e585c028-26b9-4840-a928-84ff166063b2",
   "metadata": {},
   "outputs": [],
   "source": []
  }
 ],
 "metadata": {
  "kernelspec": {
   "display_name": "Python [conda env:pangaeapy]",
   "language": "python",
   "name": "conda-env-pangaeapy-py"
  },
  "language_info": {
   "codemirror_mode": {
    "name": "ipython",
    "version": 3
   },
   "file_extension": ".py",
   "mimetype": "text/x-python",
   "name": "python",
   "nbconvert_exporter": "python",
   "pygments_lexer": "ipython3",
   "version": "3.13.1"
  }
 },
 "nbformat": 4,
 "nbformat_minor": 5
}
