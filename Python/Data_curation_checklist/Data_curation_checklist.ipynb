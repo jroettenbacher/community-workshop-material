{
 "cells": [
  {
   "cell_type": "markdown",
   "metadata": {
    "id": "rHxMY2gUuHm-"
   },
   "source": [
    "![PANGAEA_Banner.png](https://github.com/pangaea-data-publisher/community-workshop-material/raw/master/banner.png)"
   ]
  },
  {
   "cell_type": "markdown",
   "metadata": {
    "id": "TiJApo9Kv46M"
   },
   "source": [
    "# **Data Curation Checklist**\n",
    "\n",
    "Version: 1.2<br>\n",
    "By: Kathrin Riemann-Campe, Michael Oellermann<br>\n",
    "Last updated: 2024-10-16\n",
    "\n",
    "This notebook aims to help you, to check and resolve some common problems and issues with data tables, before submitting them to a data repository like [PANGAEA](https://www.pangaea.de/submit/).\n",
    "\n",
    "Check out our [instructions](https://wiki.pangaea.de/wiki/Data_submission) and [data templates](https://wiki.pangaea.de/wiki/Best_practice_manuals_and_templates) for submissions to PANGAEA.\n",
    "\n",
    "Run this notebook <a target=\"_blank\" href=\"https://colab.research.google.com/github/pangaea-data-publisher/community-workshop-material/blob/master/Python/Data_curation_checklist/Data_curation_checklist.ipynb\">\n",
    "  <img src=\"https://colab.research.google.com/assets/colab-badge.svg\" alt=\"Open In Colab\"/>\n",
    "</a>"
   ]
  },
  {
   "cell_type": "markdown",
   "metadata": {
    "id": "z3kGGrlUEN_H"
   },
   "source": [
    "# 1. Import libraries/packages"
   ]
  },
  {
   "cell_type": "code",
   "execution_count": null,
   "metadata": {
    "colab": {
     "base_uri": "https://localhost:8080/"
    },
    "id": "A0lhrlcPERwp",
    "outputId": "781cf6b0-c479-4891-c4a2-ce847a9315ab",
    "tags": []
   },
   "outputs": [],
   "source": [
    "import numpy as np\n",
    "import pandas as pd\n",
    "import re\n",
    "import random\n",
    "\n",
    "# date/time conversion package\n",
    "from datetime import date, timedelta\n",
    "\n",
    "# Latitude/Longitude conversion package\n",
    "!pip install LatLon23 \n",
    "from LatLon23 import string2latlon\n",
    "\n",
    "# needed to download PANGAEA parameters\n",
    "import requests\n",
    "\n",
    "# needed to find matching parameters\n",
    "from difflib import get_close_matches "
   ]
  },
  {
   "cell_type": "markdown",
   "metadata": {
    "id": "X4Sf5nsdE0_I"
   },
   "source": [
    "# 2. Create a practice data table\n",
    "* Create random number data file for PANGAEA test submission\n",
    "* Added mistakes:\n",
    "  * Date and time in separate columns\n",
    "  * Latitude and longitude in single cell\n",
    "  * Funny missing value\n",
    "  * Comma separated values\n",
    "  * Parameter with unit, that needs rescaling\n",
    "  * () instead of []\n",
    "  * Unrealisticly high number of decimal points\n",
    "  * Row with comments\n",
    "  * Row with aggregated statistics\n",
    "  * Feature with abbreviations (Threatened status)\n",
    "  * Species column with misspelled species names\n",
    "  * Column with NaN only\n",
    "  * Leading/trailing/double white spaces"
   ]
  },
  {
   "cell_type": "code",
   "execution_count": null,
   "metadata": {
    "colab": {
     "base_uri": "https://localhost:8080/",
     "height": 458
    },
    "id": "w8KNY0eAE473",
    "outputId": "b1757319-00f8-4ed2-cf52-7d39035dd1fb",
    "tags": []
   },
   "outputs": [],
   "source": [
    "# Function to create fake data including mistakes\n",
    "def create_fake_df():\n",
    "  \n",
    "  # Add numeric features\n",
    "  df = pd.DataFrame()\n",
    "  df['latitude (deg)'] = np.arange(start = 69.2, stop = 89, step = 0.1).reshape(-1)\n",
    "  df['lngitude (deg)'] = np.arange(start = 11, stop = 110, step = 0.5).reshape(-1)\n",
    "  df['water depth (cm)'] = np.arange(start = 1, stop = 100, step = 0.5).reshape(-1)\n",
    "  df['water temperature (degC)'] = np.random.rand(len(df),1).reshape(-1)\n",
    "\n",
    "  # Add object feature\n",
    "  df['Location'] = \"Bremerhaven, Germany\"\n",
    "\n",
    "  # Add geolocations in degrees and in a single field\n",
    "  df['lat/lon'] = \"53°32'59.9964''N; 8°34'59.9988''E\"\n",
    "\n",
    "  # Create parameter with abbreviations\n",
    "  threatened_status = 100*[\"LC\", \"NT\", \"EN\", \"EX\"]\n",
    "  df['Threatened status'] = threatened_status[0:len(df)]\n",
    "\n",
    "  # Add species column\n",
    "  species = 100*[\"Stenella coeruleoalba\", \"Tursiops truncatus\", \"Dolphinus delphis\"]\n",
    "  df['species'] = species[0:len(df)]\n",
    "\n",
    "  # Add row with comments \n",
    "  # first convert data type float (numbers only) to data type object (mix of numbers and strings)\n",
    "  df = df.astype(object)\n",
    "  df.loc[0] = df.shape[1]*[\"Comment\"]\n",
    "  \n",
    "  # Add row at the end with \"Total sum\"\n",
    "  df.loc[len(df)] = df.shape[1]*[\"Total sum\"]\n",
    "\n",
    "  # Add empty column\n",
    "  df['Empty'] = np.nan\n",
    "\n",
    "  ## Date and time manipulations\n",
    "    \n",
    "  # Add date and time columns\n",
    "  sdate = date(2010,3,22)  # start date\n",
    "  edate = date(2021,4,9)   # end date\n",
    "  # Generate date and time range\n",
    "  date_time_range = pd.date_range(sdate,edate-timedelta(days=1),freq='h')\n",
    "  # Sample random date\n",
    "  df['date'] = random.sample(date_time_range.date.tolist(), len(df))\n",
    "  # Sample random time\n",
    "  df['time'] = random.sample(date_time_range.time.tolist(), len(df))\n",
    "  # Convert to data type string\n",
    "  df['date'] = df['date'].astype(str)\n",
    "  df['time'] = df['time'].astype(str)\n",
    "\n",
    "  ## Manipulate values\n",
    "\n",
    "  # Add leading and trailing white space to values\n",
    "  df['Location'] = df['Location'].str.rjust(3, \" \")\n",
    "  df['Location'] = df['Location'].str.ljust(2, \" \")\n",
    "  # Add double white spaces in between strings\n",
    "  df.loc[2,'Location'] = 'Bremerhaven,     Germany'\n",
    "\n",
    "  # Add comma separated value to latitude\n",
    "  df['latitude (deg)'] = df['latitude (deg)'].astype(str)\n",
    "  df.loc[2,'latitude (deg)'] = \"69,4\"\n",
    "\n",
    "  # Add missing values in different formats\n",
    "  df['water depth (cm)'] = df['water depth (cm)'].astype(str)\n",
    "  df.loc[1,'water depth (cm)'] = \"-999.9\"\n",
    "  df.loc[2,'water depth (cm)'] = \"n/a\"\n",
    "\n",
    "  # sort columns\n",
    "  df = df[['date','time', 'Location', 'Threatened status', 'species', 'lat/lon', 'latitude (deg)', \n",
    "          'lngitude (deg)', 'water depth (cm)', 'water temperature (degC)', 'Empty']]\n",
    "\n",
    "  ## Save as csv file\n",
    "  df.to_csv(('test_data.csv'), index=False, sep=',')\n",
    "\n",
    "  # Show data table\n",
    "  df.head(3)\n",
    "\n",
    "  return df"
   ]
  },
  {
   "cell_type": "code",
   "execution_count": null,
   "metadata": {},
   "outputs": [],
   "source": [
    "# create dataframe with fake data\n",
    "df = create_fake_df()"
   ]
  },
  {
   "cell_type": "code",
   "execution_count": null,
   "metadata": {},
   "outputs": [],
   "source": [
    "# show dataframe, but only the first 5 rows\n",
    "df.head()"
   ]
  },
  {
   "cell_type": "code",
   "execution_count": null,
   "metadata": {},
   "outputs": [],
   "source": [
    "# show dataframe, but only the last 5 rows\n",
    "df.tail()"
   ]
  },
  {
   "cell_type": "markdown",
   "metadata": {
    "id": "LEcQeDJhLEvl"
   },
   "source": [
    "# 3. Data Curation Checklist\n",
    "\n"
   ]
  },
  {
   "cell_type": "markdown",
   "metadata": {
    "id": "LQjpm4dbLJ2N"
   },
   "source": [
    "## 3.1 Data structure\n",
    "\n",
    "* One cell = one entry\n",
    "* Columns = Variable/Parameters\n",
    "* Rows = Single observation\n",
    "* Single header row\n",
    "* No mix of numeric values and strings\n",
    "\n"
   ]
  },
  {
   "cell_type": "markdown",
   "metadata": {
    "id": "2hAxf7ELO0jK"
   },
   "source": [
    "### Check data structure"
   ]
  },
  {
   "cell_type": "code",
   "execution_count": null,
   "metadata": {
    "colab": {
     "base_uri": "https://localhost:8080/",
     "height": 518
    },
    "id": "j13EUbSkPRyI",
    "outputId": "e5d071de-2d23-4c2d-8e75-bb05d9dd3f41",
    "tags": []
   },
   "outputs": [],
   "source": [
    "# Check structure of data table\n",
    "df.head(2)"
   ]
  },
  {
   "cell_type": "code",
   "execution_count": null,
   "metadata": {},
   "outputs": [],
   "source": [
    "# Alternative way to see head and tail together\n",
    "pd.concat([df.head(4), df.tail(4)])"
   ]
  },
  {
   "cell_type": "markdown",
   "metadata": {
    "id": "Kbeh7tuGQ3qE"
   },
   "source": [
    "### Remove rows that are not observations\n",
    "Data table should have:\n",
    "* only single header row\n",
    "* no rows with aggregated statistics"
   ]
  },
  {
   "cell_type": "code",
   "execution_count": null,
   "metadata": {
    "colab": {
     "base_uri": "https://localhost:8080/",
     "height": 323
    },
    "id": "TSPFUDraRSof",
    "outputId": "fedd8144-9c9d-433f-e466-27d7cf51f4bc",
    "tags": []
   },
   "outputs": [],
   "source": [
    "# Remove row with comments, which is first row here\n",
    "df = df.iloc[1: , :] # [row, column]"
   ]
  },
  {
   "cell_type": "code",
   "execution_count": null,
   "metadata": {},
   "outputs": [],
   "source": [
    "pd.concat([df.head(2), df.tail(2)])"
   ]
  },
  {
   "cell_type": "code",
   "execution_count": null,
   "metadata": {},
   "outputs": [],
   "source": [
    "# Remove row with aggregated statistics, which is last row here\n",
    "df = df.iloc[:-1 , :] # [row, column]\n",
    "pd.concat([df.head(2), df.tail(2)])"
   ]
  },
  {
   "cell_type": "markdown",
   "metadata": {
    "id": "cTi1dfv2MVaM"
   },
   "source": [
    "## 3.2. Data types\n",
    "\n",
    "* Are data types as expected?\n",
    "\n",
    "__Numeric data__\n",
    "* Columns must contain numbers only; exception see [quality flags](https://wiki.pangaea.de/wiki/Quality_flag), DO NOT USE FORMULAS (Excel) - cells with formulas have to be saved as number prior to submission\n",
    "* Fields without data should be left empty (and NOT filled with '-', 'n/a', 'NaN', -9999 or '*' etc.)."
   ]
  },
  {
   "cell_type": "code",
   "execution_count": null,
   "metadata": {
    "colab": {
     "base_uri": "https://localhost:8080/"
    },
    "id": "hR9weW6RMYuw",
    "outputId": "452f9817-91d4-447a-e4ab-7619ff006d4a",
    "tags": []
   },
   "outputs": [],
   "source": [
    "# Check data types\n",
    "df.info()"
   ]
  },
  {
   "cell_type": "code",
   "execution_count": null,
   "metadata": {
    "colab": {
     "base_uri": "https://localhost:8080/",
     "height": 208
    },
    "id": "MVQ6y1_Rx9zz",
    "outputId": "61eb13d3-3b0b-49c0-91b9-144296a69a5b",
    "tags": []
   },
   "outputs": [],
   "source": [
    "df.head(2)"
   ]
  },
  {
   "cell_type": "markdown",
   "metadata": {
    "id": "GJPRrPFi1Um-"
   },
   "source": [
    "### Remove all columns containing nothing"
   ]
  },
  {
   "cell_type": "code",
   "execution_count": null,
   "metadata": {
    "id": "zf02UKuO1gEG",
    "tags": []
   },
   "outputs": [],
   "source": [
    "# Remove all columns containing nothing (just NaN)\n",
    "df.dropna(axis = 1, how = 'all', inplace = True)"
   ]
  },
  {
   "cell_type": "markdown",
   "metadata": {
    "id": "rh38rT7qxh7K"
   },
   "source": [
    "### Remove ambigious missing values"
   ]
  },
  {
   "cell_type": "code",
   "execution_count": null,
   "metadata": {
    "colab": {
     "base_uri": "https://localhost:8080/"
    },
    "id": "novPJkzTxppY",
    "outputId": "097993b1-729f-4450-a20a-8f8974f7a75b",
    "tags": []
   },
   "outputs": [],
   "source": [
    "# replace missing values with empty cells\n",
    "df['water depth (cm)'] = df['water depth (cm)'].str.replace('-999.9', '', regex=False)\n",
    "df['water depth (cm)'] = df['water depth (cm)'].str.replace('n/a', '', regex=False)"
   ]
  },
  {
   "cell_type": "markdown",
   "metadata": {
    "id": "34Y3TWSHPc8R"
   },
   "source": [
    "### Check for comma separated values"
   ]
  },
  {
   "cell_type": "code",
   "execution_count": null,
   "metadata": {
    "colab": {
     "base_uri": "https://localhost:8080/"
    },
    "id": "7LkRa0ThPfVS",
    "outputId": "905f97ce-1958-4006-f034-42d2f9e279b4",
    "tags": []
   },
   "outputs": [],
   "source": [
    "# List unique values\n",
    "df['latitude (deg)'].unique()[:10]"
   ]
  },
  {
   "cell_type": "code",
   "execution_count": null,
   "metadata": {
    "id": "9YHq8M7gP46G",
    "tags": []
   },
   "outputs": [],
   "source": [
    "# Replace commas with dots\n",
    "def replace_comma(dataframe, char = \",\", new_char = \".\"):\n",
    "  return [re.sub(char, new_char, x) if isinstance(x, str) else x for x in dataframe]\n",
    "\n",
    "df['latitude (deg)'] = replace_comma(df['latitude (deg)'])"
   ]
  },
  {
   "cell_type": "markdown",
   "metadata": {
    "id": "iBpLdKkSPY7n"
   },
   "source": [
    "### Convert to numeric"
   ]
  },
  {
   "cell_type": "code",
   "execution_count": null,
   "metadata": {},
   "outputs": [],
   "source": [
    "# Convert specific column to numeric\n",
    "df['latitude (deg)'] = pd.to_numeric(df['latitude (deg)'])"
   ]
  },
  {
   "cell_type": "code",
   "execution_count": null,
   "metadata": {
    "colab": {
     "base_uri": "https://localhost:8080/"
    },
    "id": "U2X82natMcnM",
    "outputId": "f72a8d22-2c08-4205-a372-0302001bf925",
    "tags": []
   },
   "outputs": [],
   "source": [
    "# OR: Convert multiple columns of dataframe to numeric\n",
    "df[df.columns[6:]] = df[df.columns[6:]].apply(pd.to_numeric)"
   ]
  },
  {
   "cell_type": "code",
   "execution_count": null,
   "metadata": {},
   "outputs": [],
   "source": [
    "# Check data type\n",
    "df.info()"
   ]
  },
  {
   "cell_type": "markdown",
   "metadata": {
    "id": "Ii4WA0Nmzp3W"
   },
   "source": [
    "### Remove leading and trailing white space"
   ]
  },
  {
   "cell_type": "code",
   "execution_count": null,
   "metadata": {},
   "outputs": [],
   "source": [
    "df.columns"
   ]
  },
  {
   "cell_type": "code",
   "execution_count": null,
   "metadata": {
    "id": "2OffVZILzuFT",
    "tags": []
   },
   "outputs": [],
   "source": [
    "# Remove all leading and trailing white spaces \n",
    "cols = df.select_dtypes(['object']).columns\n",
    "df[cols] = df[cols].apply(lambda x: x.str.strip())\n",
    "\n",
    "# Optional: Remove double white spaces\n",
    "df.replace(r\"\\s\", r\" \", regex = True, inplace = True)"
   ]
  },
  {
   "cell_type": "markdown",
   "metadata": {
    "id": "JDvWpAZbrLiY"
   },
   "source": [
    "## 3.3. Date formatting\n",
    "Date/Time should be provided in the ISO-format (e.g. 1954-04-07T13:34:11) as coordinated universal time (UTC) <p>\n",
    "--> for local time it is better to use new \"local time\" column"
   ]
  },
  {
   "cell_type": "code",
   "execution_count": null,
   "metadata": {},
   "outputs": [],
   "source": [
    "df.head(2)"
   ]
  },
  {
   "cell_type": "markdown",
   "metadata": {
    "id": "i8bROrwUvI0n"
   },
   "source": [
    "### Merge Date and Time and convert to PANGAEA format"
   ]
  },
  {
   "cell_type": "code",
   "execution_count": null,
   "metadata": {},
   "outputs": [],
   "source": [
    "df.info()"
   ]
  },
  {
   "cell_type": "code",
   "execution_count": null,
   "metadata": {
    "colab": {
     "base_uri": "https://localhost:8080/",
     "height": 354
    },
    "id": "fDURUytQrYa4",
    "outputId": "797cd12f-10ac-4431-c6d7-7917ab130225",
    "tags": []
   },
   "outputs": [],
   "source": [
    "# Join date and time\n",
    "df['date/time'] = pd.to_datetime(df['date'] + ' ' + df['time'])\n",
    "\n",
    "df.head(2)"
   ]
  },
  {
   "cell_type": "code",
   "execution_count": null,
   "metadata": {},
   "outputs": [],
   "source": [
    "# Convert to pangaea standard time format\n",
    "df['date/time'] = df['date/time'].dt.strftime('%Y-%m-%dT%H:%M:%S')\n",
    "\n",
    "df.head(2)"
   ]
  },
  {
   "cell_type": "code",
   "execution_count": null,
   "metadata": {},
   "outputs": [],
   "source": [
    "# Remove redundant time column\n",
    "df = df.drop(['date','time'], axis = 1)\n",
    "\n",
    "df.head(2)"
   ]
  },
  {
   "cell_type": "markdown",
   "metadata": {
    "id": "ypPvlcU79Xqs"
   },
   "source": [
    "### Convert from degrees to decimal format\n",
    "Note: decimal degree (-65.1234) (S and W are negative, projection WGS84)"
   ]
  },
  {
   "cell_type": "markdown",
   "metadata": {
    "id": "XMCVru6zUoW5"
   },
   "source": [
    "#### First separate latitude and longitude into individual columns\n",
    "Note: Multiple values separated by ';', '-', '±', '()' (ranges, values with errors, uncertainties, or alternative values in brackets) within a single cell should be avoided"
   ]
  },
  {
   "cell_type": "code",
   "execution_count": null,
   "metadata": {},
   "outputs": [],
   "source": [
    "df.head(2)"
   ]
  },
  {
   "cell_type": "code",
   "execution_count": null,
   "metadata": {},
   "outputs": [],
   "source": [
    "# Split cell by ; seperator\n",
    "df['lat'] = [x.split(\";\")[0] for x in  df['lat/lon']]\n",
    "df['lon'] = [x.split(\";\")[1] for x in  df['lat/lon']]\n",
    "\n",
    "df.head(2)"
   ]
  },
  {
   "cell_type": "code",
   "execution_count": null,
   "metadata": {
    "colab": {
     "base_uri": "https://localhost:8080/",
     "height": 208
    },
    "id": "cXPsicg2UvYu",
    "outputId": "d70cb668-2a7f-49e9-87ee-e61cbb51557e",
    "tags": []
   },
   "outputs": [],
   "source": [
    "# Remove old lat/lon column\n",
    "df = df.drop('lat/lon', axis = 1)\n",
    "\n",
    "df.head(2)"
   ]
  },
  {
   "cell_type": "markdown",
   "metadata": {
    "id": "oO36Z46eVgBm"
   },
   "source": [
    "Then convert from degrees to decimal format"
   ]
  },
  {
   "cell_type": "code",
   "execution_count": null,
   "metadata": {
    "colab": {
     "base_uri": "https://localhost:8080/",
     "height": 354
    },
    "id": "nGQzEC9H9aGk",
    "outputId": "6f914b30-a59d-4ee7-a77c-21d416c2ec87",
    "tags": []
   },
   "outputs": [],
   "source": [
    "# Function to convert latitude and longitude from degrees to decimal units\n",
    "def geo_decimal(latitude, longitude, format = \"d%°%m%'%S%''%H\", decimals = 6):\n",
    "    lat_dec = [round(string2latlon(lat, long, format).lat.decimal_degree, decimals) for lat, long in zip(latitude, longitude)]\n",
    "    long_dec = [round(string2latlon(lat, long, format).lon.decimal_degree, decimals) for lat, long in zip(latitude, longitude)]\n",
    "\n",
    "    return lat_dec, long_dec\n",
    "    "
   ]
  },
  {
   "cell_type": "code",
   "execution_count": null,
   "metadata": {},
   "outputs": [],
   "source": [
    "# call geo_decimal function\n",
    "df['lat'], df['lon'] =  geo_decimal(df['lat'], df['lon'], format = \"d%°%m%'%S%''%H\")\n",
    "\n",
    "df.head(2)"
   ]
  },
  {
   "cell_type": "markdown",
   "metadata": {
    "id": "091uwHIQV9UV"
   },
   "source": [
    "## 3.4. Spelling"
   ]
  },
  {
   "cell_type": "markdown",
   "metadata": {
    "id": "CyppUtQWaMFr"
   },
   "source": [
    "### Spell out abbreviations"
   ]
  },
  {
   "cell_type": "code",
   "execution_count": null,
   "metadata": {
    "colab": {
     "base_uri": "https://localhost:8080/",
     "height": 354
    },
    "id": "5WNR67MbYapq",
    "outputId": "00155e08-1142-43af-ce14-cabb56e558c8"
   },
   "outputs": [],
   "source": [
    "# What are the abbreviations\n",
    "df['Threatened status'].unique()"
   ]
  },
  {
   "cell_type": "code",
   "execution_count": null,
   "metadata": {},
   "outputs": [],
   "source": [
    "# Create list with abbreviations\n",
    "abbreviated = ('LC', 'NT', 'EN', 'EX')"
   ]
  },
  {
   "cell_type": "code",
   "execution_count": null,
   "metadata": {},
   "outputs": [],
   "source": [
    "# Create list with full names\n",
    "spelled_out = ('Least Concern', 'Near Threatened', 'Endangered', 'Extinct in the Wild')"
   ]
  },
  {
   "cell_type": "code",
   "execution_count": null,
   "metadata": {},
   "outputs": [],
   "source": [
    "# Replace the values in 'Name' column with the dictionary\n",
    "df = df.replace({\"Threatened status\": dict(zip(abbreviated, spelled_out))})\n",
    "\n",
    "df.head()"
   ]
  },
  {
   "cell_type": "markdown",
   "metadata": {
    "id": "-AgYYziib2iO"
   },
   "source": [
    "### Correct species names"
   ]
  },
  {
   "cell_type": "code",
   "execution_count": null,
   "metadata": {
    "colab": {
     "base_uri": "https://localhost:8080/"
    },
    "id": "2vdIF4xacEkc",
    "outputId": "e6c5edc4-1ca9-42b2-87e7-25d60d60874f"
   },
   "outputs": [],
   "source": [
    "# Create data frame with unique species names\n",
    "species = pd.DataFrame({'name': df[\"species\"].drop_duplicates()})"
   ]
  },
  {
   "cell_type": "code",
   "execution_count": null,
   "metadata": {},
   "outputs": [],
   "source": [
    "# Save as csv for upload to WoRMS or ITIS\n",
    "species.to_csv('Species.txt', index=False, sep=\"\\t\")\n",
    "print(species)"
   ]
  },
  {
   "cell_type": "markdown",
   "metadata": {
    "id": "uHPhaVDYeL7w"
   },
   "source": [
    "--> Use the species.txt file to check species spelling using the taxon match tools of:\n",
    "- [WoRMS](https://www.marinespecies.org/aphia.php?p=match) \n",
    "- [ITIS](https://www.itis.gov/taxmatch.html)\n",
    "\n",
    "After this you can also add columns for the AphiaID (WoRMS) or TSN numbers (ITIS)\n",
    "\n",
    "Alternatively use the R package [taxize](https://cran.r-project.org/web/packages/taxize/index.html)\n",
    "\n",
    "For species spelling conventions read our [PANGAEA wiki](https://wiki.pangaea.de/wiki/Taxon)"
   ]
  },
  {
   "cell_type": "markdown",
   "metadata": {
    "id": "IueEwyfXsOZc"
   },
   "source": [
    "##### Correct individual species names"
   ]
  },
  {
   "cell_type": "code",
   "execution_count": null,
   "metadata": {
    "colab": {
     "base_uri": "https://localhost:8080/"
    },
    "id": "usTDCn2ysTB7",
    "outputId": "2915ffb0-edf3-491d-cb68-42e66e219c5e"
   },
   "outputs": [],
   "source": [
    "# Correct mispelled species names\n",
    "df['species'] = df['species'].str.replace('Dolphinus delphis', 'Delphinus delphis')"
   ]
  },
  {
   "cell_type": "code",
   "execution_count": null,
   "metadata": {},
   "outputs": [],
   "source": [
    "# check current spelling\n",
    "df['species'].unique()"
   ]
  },
  {
   "cell_type": "markdown",
   "metadata": {
    "id": "jlC7kaOMbw63"
   },
   "source": [
    "## 3.5 Parameter (header) naming\n",
    "\n",
    "* Use clear and descriptive parameter names, no cryptic abbreviations. Non experts should be able to understand the meaning (e.g. \"Water content, sediment [%]\" instead of \"WCS\")\n",
    "* All parameters in English only\n",
    "* Parameters are always accompanied by a unit\n",
    "* Use SI units written in square brackets following the parameter e.g. \"Ground heat, flux [W/m**2]\"\n",
    "* Find suitable standard parameters names by:\n",
    "  * Looking at similar datasets published at [PANGAEA](https://pangaea.de/)\n",
    "  * Finding matching parameters in the [PANGAEA parameter database](https://www.pangaea.de/lists/parameter/all-byname)\n",
    "* Look out for PANGAEA's special [geocodes](https://wiki.pangaea.de/wiki/Geocode) and their formatting"
   ]
  },
  {
   "cell_type": "markdown",
   "metadata": {
    "id": "mfnVPH3a5bU0"
   },
   "source": [
    "### Download complete PANGAEA parameter list"
   ]
  },
  {
   "cell_type": "code",
   "execution_count": null,
   "metadata": {
    "colab": {
     "base_uri": "https://localhost:8080/"
    },
    "id": "6G__h_nf4JRP",
    "outputId": "f4e92384-6bd3-4446-c071-67c55441d1ac"
   },
   "outputs": [],
   "source": [
    "# URL link to PANGAEA parameters\n",
    "URL = \"https://www.pangaea.de/lists/parameter/all-byname\"\n",
    "response = requests.get(URL)\n",
    "# Save parameters as local file\n",
    "open(\"PANGAEA_parameters.tab\", \"wb\").write(response.content)"
   ]
  },
  {
   "cell_type": "code",
   "execution_count": null,
   "metadata": {
    "colab": {
     "base_uri": "https://localhost:8080/",
     "height": 223
    },
    "id": "aCiC7fDR5HCd",
    "outputId": "e900c39e-d669-4141-9485-f9772b733940"
   },
   "outputs": [],
   "source": [
    "# Load parameter list\n",
    "params = pd.read_csv('PANGAEA_parameters.tab', sep = '\\t', on_bad_lines = \"warn\")"
   ]
  },
  {
   "cell_type": "code",
   "execution_count": null,
   "metadata": {},
   "outputs": [],
   "source": [
    "# Check out table size\n",
    "print(f'There are currently {params.shape[0]} parameters available in PANGAEA')"
   ]
  },
  {
   "cell_type": "code",
   "execution_count": null,
   "metadata": {},
   "outputs": [],
   "source": [
    "# Short glance at the data table\n",
    "pd.concat([params.head(4), params.tail(4)])"
   ]
  },
  {
   "cell_type": "markdown",
   "metadata": {
    "id": "BQlL4dIv83r2"
   },
   "source": [
    "### Lookup similar parameters in the existing list of PANGAEA parameters\n",
    "Note: If you cannot find a suitable parameter we can create a new one for you"
   ]
  },
  {
   "cell_type": "markdown",
   "metadata": {
    "id": "n5-IFmL6_VJN"
   },
   "source": [
    "#### Find parameters containing your parameter name\n",
    "Note: Also check for a matching unit for your parameter"
   ]
  },
  {
   "cell_type": "code",
   "execution_count": null,
   "metadata": {
    "colab": {
     "base_uri": "https://localhost:8080/",
     "height": 613
    },
    "id": "DzIiYMW5-qVJ",
    "outputId": "e404f4a9-3de9-47f4-a15f-3d4597662360"
   },
   "outputs": [],
   "source": [
    "# Find your parameter using partial string matching\n",
    "params[params[\"Parameter\"].str.contains(\"Latitude\", case = False)]"
   ]
  },
  {
   "cell_type": "code",
   "execution_count": null,
   "metadata": {
    "colab": {
     "base_uri": "https://localhost:8080/"
    },
    "id": "b82EqkqK7Vo5",
    "outputId": "528eff2c-d468-4739-b412-8c9c59cdab25"
   },
   "outputs": [],
   "source": [
    "# Find similar (not exact matches) PANGAEA parameters for your own parameter. This search is less sensitive to spelling mistakes\n",
    "get_close_matches('latitude', params[\"Parameter\"], n = 10)"
   ]
  },
  {
   "cell_type": "markdown",
   "metadata": {
    "id": "6CNrOizk9WnH"
   },
   "source": [
    "### Rename parameters"
   ]
  },
  {
   "cell_type": "code",
   "execution_count": null,
   "metadata": {},
   "outputs": [],
   "source": [
    "print('original column names: ',df.columns)"
   ]
  },
  {
   "cell_type": "code",
   "execution_count": null,
   "metadata": {},
   "outputs": [],
   "source": [
    "# define new column names \n",
    "new_col_names = ['Location []', 'IUCN Red List status []', \n",
    "                 'Species []', 'LATITUDE []', 'LONGITUDE []',\n",
    "                 'DEPTH, water [m]', 'Temperature, water [°C]',\n",
    "                 'DATE/TIME []', 'Latitude 2 []', 'Longitude 2 []']"
   ]
  },
  {
   "cell_type": "code",
   "execution_count": null,
   "metadata": {
    "colab": {
     "base_uri": "https://localhost:8080/",
     "height": 208
    },
    "id": "maI6Jll48Iid",
    "outputId": "e84185a5-74c8-402d-ca88-8eee427a5382"
   },
   "outputs": [],
   "source": [
    "# replace original column names with new column names\n",
    "df.columns = new_col_names\n",
    "\n",
    "print('new column names: ',df.columns)"
   ]
  },
  {
   "cell_type": "code",
   "execution_count": null,
   "metadata": {},
   "outputs": [],
   "source": [
    "df.head(3)"
   ]
  },
  {
   "cell_type": "code",
   "execution_count": null,
   "metadata": {},
   "outputs": [],
   "source": [
    "# sort columns\n",
    "df = df[['DATE/TIME []','LATITUDE []','LONGITUDE []',\n",
    "         'Latitude 2 []', 'Longitude 2 []','DEPTH, water [m]',\n",
    "         'Location []', 'Species []', 'IUCN Red List status []',\n",
    "         'Temperature, water [°C]'\n",
    "        ]]"
   ]
  },
  {
   "cell_type": "code",
   "execution_count": null,
   "metadata": {},
   "outputs": [],
   "source": [
    "df.head(3)"
   ]
  },
  {
   "cell_type": "markdown",
   "metadata": {
    "id": "ps-aaL4pBYd4"
   },
   "source": [
    "## 3.6. Conversions"
   ]
  },
  {
   "cell_type": "markdown",
   "metadata": {
    "id": "GRL6swx1Bxzb"
   },
   "source": [
    "### Convert units\n",
    "PANGAEA aims to reduce redundancy of units by converting units to one scale (if possible). During the lookup of parameters you can already see which unit scale is used in PANGAEA."
   ]
  },
  {
   "cell_type": "code",
   "execution_count": null,
   "metadata": {
    "colab": {
     "base_uri": "https://localhost:8080/",
     "height": 208
    },
    "id": "dLuMYhSZCfkY",
    "outputId": "945f8dd2-584e-472e-94d0-d7dee3f2b0c0"
   },
   "outputs": [],
   "source": [
    "# DEPTH, water was initially in \"cm\", but in PANGAEA \"m\" is the most common unit used for this parameter\n",
    "df['DEPTH, water [m]'] = df['DEPTH, water [m]']/100\n",
    "df.head(4)"
   ]
  },
  {
   "cell_type": "markdown",
   "metadata": {
    "id": "HutJ6-gh8Ikb"
   },
   "source": [
    "## 3.7. URLs"
   ]
  },
  {
   "cell_type": "code",
   "execution_count": null,
   "metadata": {
    "colab": {
     "base_uri": "https://localhost:8080/"
    },
    "id": "TXe5hpOZ8PK9",
    "outputId": "1f511b08-d0c8-47f0-97fa-3f725561e22b"
   },
   "outputs": [],
   "source": [
    "# add URL in mew column\n",
    "df['Uniform resource locator/link to reference []'] = \"https://doi.org/10.1594/PANGAEA.945749\""
   ]
  },
  {
   "cell_type": "code",
   "execution_count": null,
   "metadata": {
    "tags": []
   },
   "outputs": [],
   "source": [
    "df.head(2)"
   ]
  },
  {
   "cell_type": "code",
   "execution_count": null,
   "metadata": {},
   "outputs": [],
   "source": [
    "# check if URL are working\n",
    "[f'This link works' if requests.get(url).status_code == 200 else False for url in df['Uniform resource locator/link to reference []'][:2]] # check only the first 2 links"
   ]
  },
  {
   "cell_type": "markdown",
   "metadata": {
    "id": "Eg5iyWtC4p88"
   },
   "source": [
    "## 3.8. Event\n",
    "An [EVENT](https://wiki.pangaea.de/wiki/Event) refers to the sampling event at which the data was obtained, such as a [station](https://www.pangaea.de/expeditions/) during a research expedition. An [EVENT](https://wiki.pangaea.de/wiki/Event) can also be described as metadata overview of a sampling device or sampling method"
   ]
  },
  {
   "cell_type": "code",
   "execution_count": null,
   "metadata": {
    "colab": {
     "base_uri": "https://localhost:8080/",
     "height": 245
    },
    "id": "OzobjNpj4uJH",
    "outputId": "faa7b1ff-0ed7-457a-fb80-03f6ef349909"
   },
   "outputs": [],
   "source": [
    "# add event column\n",
    "df.insert(loc = 0, column = 'Event []', value = 'PS132_1-2')\n",
    "df.head(2)"
   ]
  },
  {
   "cell_type": "markdown",
   "metadata": {
    "id": "hN6x57KmEFs9"
   },
   "source": [
    "# 4. Save curated data\n",
    "* as tab-delimited text files\n",
    "* Important: PANGAEA only accepts UTF-8 encoding to avoid unicode errors\n"
   ]
  },
  {
   "cell_type": "code",
   "execution_count": null,
   "metadata": {
    "id": "TFEUyHJ8EKQa"
   },
   "outputs": [],
   "source": [
    "# Save as tab-delimited txt file\n",
    "df.to_csv('Curated_data.txt', index=False, sep=\"\\t\", encoding='utf-8')"
   ]
  },
  {
   "cell_type": "markdown",
   "metadata": {
    "id": "vP-nNk9kBscC"
   },
   "source": [
    "# 5. Submit to PANGAEA\n",
    "Congratulations! You finished curating your data, which was an important step forward to make your data more accessible, understandable und useable for future users.\n",
    "Now you are ready to submit your data file(s) to [PANGAEA](https://www.pangaea.de/submit/)."
   ]
  },
  {
   "cell_type": "markdown",
   "metadata": {},
   "source": [
    "# Acknowledgements\n",
    "\n",
    "Michael Oellermanns work was supported by the German Research Foundation DFG under the grant agreement number  442032008 (NFDI4Biodiversity). The project is part of NFDI, the National Research Data Infrastructure Programme in Germany.  \n",
    "\n",
    "<img src=\"./NFDI_4_Biodiversity___Logo_Positiv.png\" alt=\"NFDI4Biodiversity Logo\" align=\"left\" width=\"300\">"
   ]
  },
  {
   "cell_type": "code",
   "execution_count": null,
   "metadata": {},
   "outputs": [],
   "source": []
  }
 ],
 "metadata": {
  "colab": {
   "provenance": [],
   "toc_visible": true
  },
  "kernelspec": {
   "display_name": "Python [conda env:Anaconda-Python3.10]",
   "language": "python",
   "name": "conda-env-Anaconda-Python3.10-py"
  },
  "language_info": {
   "codemirror_mode": {
    "name": "ipython",
    "version": 3
   },
   "file_extension": ".py",
   "mimetype": "text/x-python",
   "name": "python",
   "nbconvert_exporter": "python",
   "pygments_lexer": "ipython3",
   "version": "3.10.11"
  },
  "vscode": {
   "interpreter": {
    "hash": "ab424e4dc2e74cacaae9c1f914107a9f781b476e0d613ee58688e62f3501b19d"
   }
  }
 },
 "nbformat": 4,
 "nbformat_minor": 4
}
