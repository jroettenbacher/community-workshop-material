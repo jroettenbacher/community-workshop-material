{
 "cells": [
  {
   "cell_type": "markdown",
   "id": "579868a0",
   "metadata": {},
   "source": [
    "![PANGAEA_Banner.png](https://github.com/pangaea-data-publisher/community-workshop-material/raw/master/banner.png)",
    "# PANGAEApy\n",
    "## Introduction and examples for PANGAEA community workshop 2022"
   ]
  },
  {
   "cell_type": "markdown",
   "id": "396f9798",
   "metadata": {},
   "source": [
    "### This script shows an example of searching and downloading multiple files via pangaeapy and how to get information on meta data\n",
    "\n",
    "#### For more information and examples on pangaeapy: https://github.com/pangaea-data-publisher/pangaeapy\n"
   ]
  },
  {
   "cell_type": "markdown",
   "id": "b58476ce",
   "metadata": {},
   "source": [
    "### Overview\n",
    "* How to search for specific data sets in PANGAEA\n",
    "* Search by project\n",
    "* Convert search results into one easy to read table\n",
    "* Export search results to csv file\n",
    "* Get data including meta data of a single data set\n",
    "* Refine search with geographical coordinates by applying a bounding box\n",
    "* Refine search further: filter only datasets with \"Geochemistry\" in title\n",
    "* Get multiple data sets\n",
    "* Download many binary files\n",
    "* Download many files"
   ]
  },
  {
   "cell_type": "code",
   "execution_count": null,
   "id": "6df29862",
   "metadata": {},
   "outputs": [],
   "source": [
    "# import necessary packages\n",
    "import pangaeapy as pan\n",
    "from pangaeapy.pandataset import PanDataSet\n",
    "import pandas as pd\n",
    "import re\n",
    "import os"
   ]
  },
  {
   "cell_type": "code",
   "execution_count": null,
   "id": "33b2a024",
   "metadata": {},
   "outputs": [],
   "source": [
    "# show functions of pangaeapy\n",
    "help(pan)"
   ]
  },
  {
   "cell_type": "markdown",
   "id": "c6f43c52",
   "metadata": {},
   "source": [
    "<br/>"
   ]
  },
  {
   "cell_type": "markdown",
   "id": "ef6d11c3",
   "metadata": {},
   "source": [
    "# How to search for specific data sets in PANGAEA"
   ]
  },
  {
   "cell_type": "code",
   "execution_count": null,
   "id": "50573209",
   "metadata": {},
   "outputs": [],
   "source": [
    "# show functions of pangaeapy.panquery\n",
    "help(pan.panquery)"
   ]
  },
  {
   "cell_type": "markdown",
   "id": "b5ab6a77",
   "metadata": {},
   "source": [
    "##  Search by project\n",
    "### Example: search for project \"PAGES_C-PEAT\"\n",
    "pan.PanQuery(\"PAGES_C-PEAT\", limit = 500)\n",
    "vs. \n",
    "pan.PanQuery(\"project:label:PAGES_C-PEAT\", limit = 500)\n"
   ]
  },
  {
   "cell_type": "markdown",
   "id": "9b5d70ef",
   "metadata": {},
   "source": [
    "Note: the default limit = 10, maximum of limit = 500"
   ]
  },
  {
   "cell_type": "code",
   "execution_count": null,
   "id": "4aa99f5a",
   "metadata": {},
   "outputs": [],
   "source": [
    "search1 = pan.PanQuery(\"PAGES_C-PEAT\", limit = 500)\n",
    "print(search1.totalcount)\n",
    "print(search1.error)\n",
    "print(search1.query)"
   ]
  },
  {
   "cell_type": "code",
   "execution_count": null,
   "id": "b00b8700",
   "metadata": {},
   "outputs": [],
   "source": [
    "search1.result[0:2] #show only first 3 results"
   ]
  },
  {
   "cell_type": "markdown",
   "id": "c176fb3b",
   "metadata": {},
   "source": [
    "#### Documentation on search with keywords\n",
    "https://wiki.pangaea.de/wiki/PANGAEA_search"
   ]
  },
  {
   "cell_type": "code",
   "execution_count": null,
   "id": "ea139f02",
   "metadata": {},
   "outputs": [],
   "source": [
    "# refined search with project label\n",
    "# same as search on website https://www.pangaea.de/?q=project:label:PAGES_C-PEAT\n",
    "search2 = pan.PanQuery(\"project:label:PAGES_C-PEAT\", limit = 500)\n",
    "print(search2.totalcount)\n",
    "print(search2.error)\n",
    "print(search2.query)"
   ]
  },
  {
   "cell_type": "code",
   "execution_count": null,
   "id": "3d6701b2",
   "metadata": {},
   "outputs": [],
   "source": [
    "search2.result[0:2] #show only first 3 results"
   ]
  },
  {
   "cell_type": "markdown",
   "id": "fafad80f",
   "metadata": {},
   "source": [
    "#### Hint: specify your search with facet filter at https://www.pangaea.de and refine your search query with PANGAEApy"
   ]
  },
  {
   "cell_type": "markdown",
   "id": "ee22e649",
   "metadata": {},
   "source": [
    "### What if list of search results exceeds limit of 500?\n",
    "If search has a result list (totalcount) > 500, split search results in 2 querys"
   ]
  },
  {
   "cell_type": "code",
   "execution_count": null,
   "id": "c4183912",
   "metadata": {},
   "outputs": [],
   "source": [
    "PAGES1=pan.PanQuery(\"project:label:PAGES_C-PEAT\", limit = 500)\n",
    "print(PAGES1.totalcount)\n",
    "print(PAGES1.error)\n",
    "print(PAGES1.query)\n",
    "print(PAGES1.result[0]['URI'])"
   ]
  },
  {
   "cell_type": "code",
   "execution_count": null,
   "id": "bb235e94",
   "metadata": {},
   "outputs": [],
   "source": [
    "PAGES2=pan.PanQuery(\"project:label:PAGES_C-PEAT\", limit = 500, offset=500)\n",
    "print(PAGES2.totalcount)\n",
    "print(PAGES2.error)\n",
    "print(PAGES2.query)\n",
    "print(PAGES2.result[0]['URI'])"
   ]
  },
  {
   "cell_type": "code",
   "execution_count": null,
   "id": "b75078cb",
   "metadata": {},
   "outputs": [],
   "source": [
    "print(type(PAGES1))\n",
    "print(type(PAGES1.result))\n",
    "print(PAGES1.result[0])"
   ]
  },
  {
   "cell_type": "markdown",
   "id": "ce2af9f9",
   "metadata": {},
   "source": [
    "<br/>"
   ]
  },
  {
   "cell_type": "markdown",
   "id": "292a641b",
   "metadata": {},
   "source": [
    "### Convert search results into one easy to read table\n",
    "convert list of dictionaries into data frame "
   ]
  },
  {
   "cell_type": "code",
   "execution_count": null,
   "id": "da10a4d9",
   "metadata": {},
   "outputs": [],
   "source": [
    "df1 = pd.DataFrame(PAGES1.result)\n",
    "df2 = pd.DataFrame(PAGES2.result)"
   ]
  },
  {
   "cell_type": "markdown",
   "id": "bb4b6138",
   "metadata": {},
   "source": [
    "information on size of data frames and columns"
   ]
  },
  {
   "cell_type": "code",
   "execution_count": null,
   "id": "bdacba25",
   "metadata": {},
   "outputs": [],
   "source": [
    "df1.columns"
   ]
  },
  {
   "cell_type": "code",
   "execution_count": null,
   "id": "ba0bcc91",
   "metadata": {},
   "outputs": [],
   "source": [
    "df1.count()"
   ]
  },
  {
   "cell_type": "code",
   "execution_count": null,
   "id": "9c49ad2d",
   "metadata": {},
   "outputs": [],
   "source": [
    "df2.count()"
   ]
  },
  {
   "cell_type": "markdown",
   "id": "09dc5695",
   "metadata": {},
   "source": [
    "merge both data frames into one"
   ]
  },
  {
   "cell_type": "code",
   "execution_count": null,
   "id": "aeea13b8",
   "metadata": {},
   "outputs": [],
   "source": [
    "df=pd.concat([df1,df2],ignore_index=True)\n",
    "df.count()"
   ]
  },
  {
   "cell_type": "markdown",
   "id": "bcfb7aff",
   "metadata": {},
   "source": [
    "show first 5 lines of data frame"
   ]
  },
  {
   "cell_type": "code",
   "execution_count": null,
   "id": "ba72aeeb",
   "metadata": {},
   "outputs": [],
   "source": [
    "df.head()"
   ]
  },
  {
   "cell_type": "markdown",
   "id": "9a90d1d1",
   "metadata": {},
   "source": [
    "which information is in column html?"
   ]
  },
  {
   "cell_type": "code",
   "execution_count": null,
   "id": "eb0d77d9",
   "metadata": {},
   "outputs": [],
   "source": [
    "df.html[0]"
   ]
  },
  {
   "cell_type": "markdown",
   "id": "eb21aa7a",
   "metadata": {},
   "source": [
    "#### get information on titel and author out of html code and add to data frame\n",
    "use regular expressions"
   ]
  },
  {
   "cell_type": "code",
   "execution_count": null,
   "id": "a27eaf58",
   "metadata": {},
   "outputs": [],
   "source": [
    "# create column: titel\n",
    "df['titel'] = df.html.str.extract(r'\"citation\">(?:.*?)<\\/strong>(.*?)<\\/a>')\n",
    "\n",
    "# create column: author\n",
    "df['author(s)'] = df.html.str.extract(r'\"dataset-link\"><strong>(.*?)\\([0-9]{4}\\):<\\/strong>')\n",
    "\n",
    "# create column: year of publication\n",
    "df['year of publication'] = df.html.str.extract(r'(\\([0-9]{4}\\))')\n",
    "\n",
    "#create column: PANGAEA ID\n",
    "df['PANGAEA ID'] = df.html.str.extract(r'class=\"citation\"><a href=\"https:\\/\\/doi.pangaea.de\\/10.1594\\/PANGAEA.([0-9]{6})')\n",
    "\n",
    "#print(df.columns)\n",
    "# adapt position of columns \n",
    "df = df[['PANGAEA ID','author(s)', 'titel','year of publication','URI','type','score','position', 'html']]"
   ]
  },
  {
   "cell_type": "code",
   "execution_count": null,
   "id": "49128973",
   "metadata": {},
   "outputs": [],
   "source": [
    "df"
   ]
  },
  {
   "cell_type": "markdown",
   "id": "a9e2eba3",
   "metadata": {},
   "source": [
    "type = child means, that data set is part of a data collection"
   ]
  },
  {
   "cell_type": "markdown",
   "id": "6b669349",
   "metadata": {},
   "source": [
    "score indicates how well the data set matches the search query"
   ]
  },
  {
   "cell_type": "markdown",
   "id": "0c958610",
   "metadata": {},
   "source": [
    "<br/>"
   ]
  },
  {
   "cell_type": "markdown",
   "id": "41a16f92",
   "metadata": {},
   "source": [
    "## Export search results to csv file"
   ]
  },
  {
   "cell_type": "markdown",
   "id": "5a30918c",
   "metadata": {},
   "source": [
    "Find out what your current path is and alter it to your liking."
   ]
  },
  {
   "cell_type": "code",
   "execution_count": null,
   "id": "1b6b1e01",
   "metadata": {},
   "outputs": [],
   "source": [
    "# what is my Current Working Directory ?\n",
    "print(os.getcwd())"
   ]
  },
  {
   "cell_type": "markdown",
   "id": "156f75b4",
   "metadata": {},
   "source": [
    "Define the path and file name where the output will be stored."
   ]
  },
  {
   "cell_type": "markdown",
   "id": "a62c66f9",
   "metadata": {},
   "source": [
    "##### NOTE: If you are working on a Windows machine: \\ need to be / and don't forget the last /"
   ]
  },
  {
   "cell_type": "code",
   "execution_count": null,
   "id": "aaca9667",
   "metadata": {},
   "outputs": [],
   "source": [
    "datapath='<your_specific_path>'\n",
    "outfile='search_result_PAGES.txt'"
   ]
  },
  {
   "cell_type": "markdown",
   "id": "17a1ee95",
   "metadata": {},
   "source": [
    "Export list in csv formatted file"
   ]
  },
  {
   "cell_type": "code",
   "execution_count": null,
   "id": "cfd026eb",
   "metadata": {},
   "outputs": [],
   "source": [
    "df.to_csv((datapath+outfile),sep='\\t',index=False)"
   ]
  },
  {
   "cell_type": "markdown",
   "id": "93dcf897",
   "metadata": {},
   "source": [
    "<br/>"
   ]
  },
  {
   "cell_type": "markdown",
   "id": "8a9e1b29",
   "metadata": {},
   "source": [
    "## Get data including meta data of a single data set\n",
    "#### use function PanDataSet"
   ]
  },
  {
   "cell_type": "code",
   "execution_count": null,
   "id": "875f587b",
   "metadata": {},
   "outputs": [],
   "source": [
    "#help(PanDataSet)"
   ]
  },
  {
   "cell_type": "code",
   "execution_count": null,
   "id": "daa631ec",
   "metadata": {},
   "outputs": [],
   "source": [
    "Joey_core12 = PanDataSet(890405)\n",
    "print(Joey_core12.title)\n",
    "print(Joey_core12.citation)\n",
    "print(Joey_core12.isParent)"
   ]
  },
  {
   "cell_type": "code",
   "execution_count": null,
   "id": "5c3efbe3",
   "metadata": {},
   "outputs": [],
   "source": [
    "Joey_core12.data.head()"
   ]
  },
  {
   "cell_type": "markdown",
   "id": "2d278f8c",
   "metadata": {},
   "source": [
    "Parameter long names and units are given in lists "
   ]
  },
  {
   "cell_type": "code",
   "execution_count": null,
   "id": "5da90d1e",
   "metadata": {},
   "outputs": [],
   "source": [
    "long_names = []\n",
    "for param in Joey_core12.params.values():\n",
    "    print(param.name)\n",
    "    print(param.unit)\n",
    "    long_names.append(str(param.name) + ' [' + str(param.unit) + ']')\n",
    "    \n",
    "#print(long_names)"
   ]
  },
  {
   "cell_type": "markdown",
   "id": "a754f426",
   "metadata": {},
   "source": [
    "### download table as tab-delimited txt file"
   ]
  },
  {
   "cell_type": "code",
   "execution_count": null,
   "id": "ca08fea9",
   "metadata": {},
   "outputs": [],
   "source": [
    "# what is my Current Working Directory ?\n",
    "print(os.getcwd())"
   ]
  },
  {
   "cell_type": "code",
   "execution_count": null,
   "id": "0d32ebef",
   "metadata": {},
   "outputs": [],
   "source": [
    "datapath='<your_specific_path>'\n",
    "outfile_joey='Joey_core12.txt'\n",
    "\n",
    "Joey_core12.data.to_csv((datapath+outfile_joey),sep='\\t',index=False,header=long_names)\n"
   ]
  },
  {
   "cell_type": "markdown",
   "id": "56843938",
   "metadata": {},
   "source": [
    "<br/>"
   ]
  },
  {
   "cell_type": "markdown",
   "id": "2dac0b5d",
   "metadata": {},
   "source": [
    "## Refine search with geographical coordinates by applying a bounding box"
   ]
  },
  {
   "cell_type": "markdown",
   "id": "5fb0cb7d",
   "metadata": {},
   "source": [
    "bbox: set the bounding box to define geographical search constraints following the GeoJSON specs\n"
   ]
  },
  {
   "cell_type": "markdown",
   "id": "385e549b",
   "metadata": {},
   "source": [
    "bbox=(minlon, minlat, maxlon, maxlat)"
   ]
  },
  {
   "cell_type": "code",
   "execution_count": null,
   "id": "03bacb33",
   "metadata": {},
   "outputs": [],
   "source": [
    "# datasets in northern Sweden\n",
    "PAGES_Sweden = pan.PanQuery(\"project:label:PAGES_C-PEAT\", limit = 500, bbox=(17.7, 67.7, 21, 69))\n",
    "print(PAGES_Sweden.totalcount)\n",
    "print(PAGES_Sweden.error)\n",
    "print(PAGES_Sweden.query)\n"
   ]
  },
  {
   "cell_type": "markdown",
   "id": "6eba7321",
   "metadata": {},
   "source": [
    "loop over result list and take PANGAEA data set ID from URI"
   ]
  },
  {
   "cell_type": "code",
   "execution_count": null,
   "id": "39477428",
   "metadata": {},
   "outputs": [],
   "source": [
    "panID = []\n",
    "title = []\n",
    "for count,value in enumerate(PAGES_Sweden.result):\n",
    "    #print(PAGES_Sweden.result[count]['URI'].split('.'))\n",
    "    c = []\n",
    "    a,b,c = PAGES_Sweden.result[count]['URI'].split('.')\n",
    "    #print(int(c))\n",
    "    panID.append(int(c))\n",
    "    \n",
    "    df_tmp = PanDataSet(int(c))\n",
    "    #print(df_tmp.title)\n",
    "    title.append(df_tmp.title)\n",
    "    \n",
    "    \n",
    "#print(panID)\n",
    "#print(title)"
   ]
  },
  {
   "cell_type": "code",
   "execution_count": null,
   "id": "d1f8fb06",
   "metadata": {},
   "outputs": [],
   "source": [
    "df_sweden_meta = pd.DataFrame(panID,columns=['panID'])\n",
    "df_sweden_meta['Title'] = title"
   ]
  },
  {
   "cell_type": "code",
   "execution_count": null,
   "id": "8707cf87",
   "metadata": {},
   "outputs": [],
   "source": [
    "df_sweden_meta.head()"
   ]
  },
  {
   "cell_type": "code",
   "execution_count": null,
   "id": "e1239fc9",
   "metadata": {},
   "outputs": [],
   "source": [
    "df_sweden_meta.count()"
   ]
  },
  {
   "cell_type": "markdown",
   "id": "256491d1",
   "metadata": {},
   "source": [
    "<br/>"
   ]
  },
  {
   "cell_type": "markdown",
   "id": "4e9770b3",
   "metadata": {},
   "source": [
    "## Refine search further: filter only datasets with \"Geochemistry\" in title"
   ]
  },
  {
   "cell_type": "code",
   "execution_count": null,
   "id": "3472839c",
   "metadata": {},
   "outputs": [],
   "source": [
    "PAGES_Sweden_geo = df_sweden_meta[df_sweden_meta['Title'].str.contains('Geochemistry')]"
   ]
  },
  {
   "cell_type": "code",
   "execution_count": null,
   "id": "74be6727",
   "metadata": {},
   "outputs": [],
   "source": [
    "PAGES_Sweden_geo.head()"
   ]
  },
  {
   "cell_type": "code",
   "execution_count": null,
   "id": "4f8101c5",
   "metadata": {},
   "outputs": [],
   "source": [
    "PAGES_Sweden_geo.count()"
   ]
  },
  {
   "cell_type": "markdown",
   "id": "6fbdc7fb",
   "metadata": {},
   "source": [
    "<br/>"
   ]
  },
  {
   "cell_type": "markdown",
   "id": "55100af8",
   "metadata": {},
   "source": [
    "## Get multiple data sets"
   ]
  },
  {
   "cell_type": "markdown",
   "id": "94d85556",
   "metadata": {},
   "source": [
    "combine all data of PAGES_Sweden_geo search results into a single data frame\n"
   ]
  },
  {
   "cell_type": "code",
   "execution_count": null,
   "id": "a8572417",
   "metadata": {},
   "outputs": [],
   "source": [
    "# new data frame\n",
    "PAGES_Sweden_data = []\n",
    "first = True\n",
    "\n",
    "for i, id_pan in PAGES_Sweden_geo['panID'].iteritems():\n",
    "    #print(i)\n",
    "    #print(id_pan)\n",
    "    df_tmp = []\n",
    "    df_tmp = PanDataSet(id_pan)\n",
    "    df_tmp.data['DOI'] = df_tmp.doi\n",
    "    df_tmp.data['citation'] = df_tmp.citation\n",
    "    \n",
    "    if first == True:\n",
    "        PAGES_Sweden_data = pd.DataFrame(df_tmp.data)\n",
    "        first = False\n",
    "    else:\n",
    "        PAGES_Sweden_data = pd.concat([PAGES_Sweden_data,df_tmp.data], axis=0, ignore_index=True)\n"
   ]
  },
  {
   "cell_type": "code",
   "execution_count": null,
   "id": "33e16d73",
   "metadata": {},
   "outputs": [],
   "source": [
    "# rearange order of columns\n",
    "print(PAGES_Sweden_data.columns)\n",
    "PAGES_Sweden_data = PAGES_Sweden_data[['Depth', 'Age', 'DBD', 'OM', 'OM dens', 'TC', 'TN', 'Corg dens', 'Peat',\n",
    "       'Peat_2', 'Samp thick', 'LOI', 'C', 'Event', 'Latitude', 'Longitude', 'Elevation', 'DOI', 'citation']]"
   ]
  },
  {
   "cell_type": "code",
   "execution_count": null,
   "id": "1b4fdb5b",
   "metadata": {},
   "outputs": [],
   "source": [
    "PAGES_Sweden_data.count()"
   ]
  },
  {
   "cell_type": "code",
   "execution_count": null,
   "id": "5bff2de1",
   "metadata": {},
   "outputs": [],
   "source": [
    "PAGES_Sweden_data.head()"
   ]
  },
  {
   "cell_type": "markdown",
   "id": "b374ede2",
   "metadata": {},
   "source": [
    "download table as tab-delimited text file"
   ]
  },
  {
   "cell_type": "code",
   "execution_count": null,
   "id": "32a2197c",
   "metadata": {},
   "outputs": [],
   "source": [
    "# what is my Current Working Directory ?\n",
    "print(os.getcwd())"
   ]
  },
  {
   "cell_type": "code",
   "execution_count": null,
   "id": "656d4c46",
   "metadata": {},
   "outputs": [],
   "source": [
    "datapath='<your_specific_path>'\n",
    "outfile_sweden='Sweden_geochem.txt'\n",
    "\n",
    "PAGES_Sweden_data.to_csv((datapath+outfile_sweden),sep='\\t',index=False)"
   ]
  },
  {
   "cell_type": "markdown",
   "id": "503ccff7",
   "metadata": {},
   "source": [
    "<br/>"
   ]
  },
  {
   "cell_type": "markdown",
   "id": "77bb612f",
   "metadata": {},
   "source": [
    "## Download many binary files"
   ]
  },
  {
   "cell_type": "markdown",
   "id": "02f2ace6",
   "metadata": {},
   "source": [
    "download the images from a single dataset https://doi.pangaea.de/10.1594/PANGAEA.919398"
   ]
  },
  {
   "cell_type": "code",
   "execution_count": null,
   "id": "d779fb7a",
   "metadata": {},
   "outputs": [],
   "source": [
    "df_image = PanDataSet(919398)"
   ]
  },
  {
   "cell_type": "code",
   "execution_count": null,
   "id": "50178021",
   "metadata": {},
   "outputs": [],
   "source": [
    "df_image.data.head()"
   ]
  },
  {
   "cell_type": "code",
   "execution_count": null,
   "id": "3009dfe4",
   "metadata": {},
   "outputs": [],
   "source": [
    "df_image.data.count()"
   ]
  },
  {
   "cell_type": "markdown",
   "id": "aa5fe7da",
   "metadata": {},
   "source": [
    "download files listed in the column \"IMAGE\""
   ]
  },
  {
   "cell_type": "markdown",
   "id": "77a0cde2",
   "metadata": {},
   "source": [
    "set the prefix first (see .tab file) https://doi.pangaea.de/10.1594/PANGAEA.919398?format=textfile"
   ]
  },
  {
   "cell_type": "code",
   "execution_count": null,
   "id": "7a82574e",
   "metadata": {},
   "outputs": [],
   "source": [
    "prefix = 'https://download.pangaea.de/dataset/919398/files/'"
   ]
  },
  {
   "cell_type": "markdown",
   "id": "358e5c5e",
   "metadata": {},
   "source": [
    "download only images when \"fauna\" is listed in column \"Content\""
   ]
  },
  {
   "cell_type": "code",
   "execution_count": null,
   "id": "a53b85ad",
   "metadata": {},
   "outputs": [],
   "source": [
    "df_fauna = df_image.data[df_image.data['Content'].str.contains('fauna')]"
   ]
  },
  {
   "cell_type": "code",
   "execution_count": null,
   "id": "7b3dff84",
   "metadata": {},
   "outputs": [],
   "source": [
    "# what is my Current Working Directory ?\n",
    "print(os.getcwd())"
   ]
  },
  {
   "cell_type": "code",
   "execution_count": null,
   "id": "dbd7360d",
   "metadata": {},
   "outputs": [],
   "source": [
    "import urllib.request \n",
    "\n",
    "datapath='<your_specific_path>'\n",
    "\n",
    "for i, image_name in df_fauna['IMAGE'].iteritems():\n",
    "    print(image_name)\n",
    "    urllib.request.urlretrieve((prefix+image_name), (datapath+image_name))"
   ]
  },
  {
   "cell_type": "markdown",
   "id": "7b1dac48",
   "metadata": {},
   "source": [
    "<br/>"
   ]
  },
  {
   "cell_type": "markdown",
   "id": "acc025c7",
   "metadata": {},
   "source": [
    "## Download many files"
   ]
  },
  {
   "cell_type": "markdown",
   "id": "efc9e58f",
   "metadata": {},
   "source": [
    "this concerns datasets published before 2020 (in .tab file the full path is given, not just the file name)"
   ]
  },
  {
   "cell_type": "markdown",
   "id": "e4ea4f10",
   "metadata": {},
   "source": [
    "example: https://doi.pangaea.de/10.1594/PANGAEA.910179"
   ]
  },
  {
   "cell_type": "code",
   "execution_count": null,
   "id": "6ce93711",
   "metadata": {},
   "outputs": [],
   "source": [
    "file_list = PanDataSet(910179)"
   ]
  },
  {
   "cell_type": "code",
   "execution_count": null,
   "id": "93ba9065",
   "metadata": {},
   "outputs": [],
   "source": [
    "file_list.data.head()"
   ]
  },
  {
   "cell_type": "code",
   "execution_count": null,
   "id": "f75f4c81",
   "metadata": {},
   "outputs": [],
   "source": [
    "file_list.data.count()"
   ]
  },
  {
   "cell_type": "code",
   "execution_count": null,
   "id": "d31e7b5e",
   "metadata": {},
   "outputs": [],
   "source": [
    "# what is my Current Working Directory ?\n",
    "print(os.getcwd())"
   ]
  },
  {
   "cell_type": "code",
   "execution_count": null,
   "id": "2188b67e",
   "metadata": {},
   "outputs": [],
   "source": [
    "import urllib.request \n",
    "\n",
    "datapath='<your_specific_path>'\n",
    "\n",
    "for i, file_url in file_list.data['URL file'].iteritems():\n",
    "    print(file_url)\n",
    "    urllib.request.urlretrieve(file_url, (datapath+file_list.data['File name'].iloc[i]))"
   ]
  }
 ],
 "metadata": {
  "kernelspec": {
   "display_name": "Python 3",
   "language": "python",
   "name": "python3"
  },
  "language_info": {
   "codemirror_mode": {
    "name": "ipython",
    "version": 3
   },
   "file_extension": ".py",
   "mimetype": "text/x-python",
   "name": "python",
   "nbconvert_exporter": "python",
   "pygments_lexer": "ipython3",
   "version": "3.10.4"
  }
 },
 "nbformat": 4,
 "nbformat_minor": 5
}
